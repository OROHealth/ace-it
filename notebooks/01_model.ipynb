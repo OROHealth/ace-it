{
  "nbformat": 4,
  "nbformat_minor": 0,
  "metadata": {
    "colab": {
      "name": "01_model.ipynb",
      "provenance": [],
      "collapsed_sections": [],
      "authorship_tag": "ABX9TyOE4HheIRT3wYFRBNBE15rQ",
      "include_colab_link": true
    },
    "kernelspec": {
      "name": "python3",
      "display_name": "Python 3"
    },
    "language_info": {
      "name": "python"
    },
    "accelerator": "GPU"
  },
  "cells": [
    {
      "cell_type": "markdown",
      "metadata": {
        "id": "view-in-github",
        "colab_type": "text"
      },
      "source": [
        "<a href=\"https://colab.research.google.com/github/yrodriguezmd/ace-it/blob/nov24/notebooks/01_model.ipynb\" target=\"_parent\"><img src=\"https://colab.research.google.com/assets/colab-badge.svg\" alt=\"Open In Colab\"/></a>"
      ]
    },
    {
      "cell_type": "markdown",
      "metadata": {
        "id": "9697FYX-HRJZ"
      },
      "source": [
        "### Generate a work flow for preprocessing and modelling image data for 3 classes of skin disorders\n",
        "\n",
        "(Acne n= 40, Herpes simplex n= 16, Lichen planus n= 56)\n",
        "\n",
        "*small dataset, mildly imbalanced*"
      ]
    },
    {
      "cell_type": "markdown",
      "metadata": {
        "id": "WOD08C7GHNtV"
      },
      "source": [
        "Installations and Imports"
      ]
    },
    {
      "cell_type": "code",
      "metadata": {
        "id": "JVWcF8gJNV3n",
        "colab": {
          "base_uri": "https://localhost:8080/"
        },
        "outputId": "841c8fdd-c3c6-4ad2-8179-13bdfe7879e0"
      },
      "source": [
        "!pip install -q --upgrade fastai"
      ],
      "execution_count": 1,
      "outputs": [
        {
          "output_type": "stream",
          "name": "stdout",
          "text": [
            "\u001b[K     |████████████████████████████████| 189 kB 12.8 MB/s \n",
            "\u001b[K     |████████████████████████████████| 56 kB 3.1 MB/s \n",
            "\u001b[?25h"
          ]
        }
      ]
    },
    {
      "cell_type": "code",
      "metadata": {
        "id": "sAEF3aJ6fDo6"
      },
      "source": [
        "import fastai\n",
        "from fastai.vision.all import *"
      ],
      "execution_count": 2,
      "outputs": []
    },
    {
      "cell_type": "markdown",
      "metadata": {
        "id": "dM-IQ78mH9nI"
      },
      "source": [
        "Access data"
      ]
    },
    {
      "cell_type": "code",
      "metadata": {
        "id": "VzmEemiZsh0K"
      },
      "source": [
        "!git clone https://github.com/yrodriguezmd/ace-it.git"
      ],
      "execution_count": null,
      "outputs": []
    },
    {
      "cell_type": "code",
      "metadata": {
        "colab": {
          "base_uri": "https://localhost:8080/"
        },
        "id": "rYrWuaEPsq_O",
        "outputId": "2d85d581-46f3-4471-b4a0-99bd2dc6c301"
      },
      "source": [
        "!ls ace-it "
      ],
      "execution_count": null,
      "outputs": [
        {
          "output_type": "stream",
          "name": "stdout",
          "text": [
            "data_3class_skin_diseases.zip  Readme.md  Tech-Challenge.pdf  test\n"
          ]
        }
      ]
    },
    {
      "cell_type": "code",
      "metadata": {
        "colab": {
          "base_uri": "https://localhost:8080/"
        },
        "id": "1mI8w-vltmwl",
        "outputId": "93b45ec3-0d7f-4b45-ba82-9928e9f717aa"
      },
      "source": [
        "%cd ace-it"
      ],
      "execution_count": 4,
      "outputs": [
        {
          "output_type": "stream",
          "name": "stdout",
          "text": [
            "/content/ace-it\n"
          ]
        }
      ]
    },
    {
      "cell_type": "code",
      "metadata": {
        "colab": {
          "base_uri": "https://localhost:8080/"
        },
        "id": "tbI7XGz8to0l",
        "outputId": "0fe3f798-83cc-4d8a-ec36-6748bbd6a51b"
      },
      "source": [
        "!ls"
      ],
      "execution_count": null,
      "outputs": [
        {
          "output_type": "stream",
          "name": "stdout",
          "text": [
            "data_3class_skin_diseases.zip  Readme.md  Tech-Challenge.pdf  test\n"
          ]
        }
      ]
    },
    {
      "cell_type": "code",
      "metadata": {
        "id": "cLtUIvtgsuvP"
      },
      "source": [
        "!unzip \\*zip && rm*.zip"
      ],
      "execution_count": null,
      "outputs": []
    },
    {
      "cell_type": "code",
      "metadata": {
        "colab": {
          "base_uri": "https://localhost:8080/"
        },
        "id": "d3y2No8PtjMT",
        "outputId": "52c220bb-f170-40f3-9111-acda7c21c33c"
      },
      "source": [
        "!ls data_3class_skin_diseases"
      ],
      "execution_count": null,
      "outputs": [
        {
          "output_type": "stream",
          "name": "stdout",
          "text": [
            "acne  herpes_simplex  lichen_planus\n"
          ]
        }
      ]
    },
    {
      "cell_type": "code",
      "metadata": {
        "id": "vuVrtDwDub_w"
      },
      "source": [
        "path = Path('/content/ace-it/data_3class_skin_diseases')"
      ],
      "execution_count": 6,
      "outputs": []
    },
    {
      "cell_type": "code",
      "metadata": {
        "colab": {
          "base_uri": "https://localhost:8080/"
        },
        "id": "Cgn-2LOOkmN9",
        "outputId": "6f33333a-4962-4465-fda3-53425deb8587"
      },
      "source": [
        "path.ls()"
      ],
      "execution_count": null,
      "outputs": [
        {
          "output_type": "execute_result",
          "data": {
            "text/plain": [
              "(#3) [Path('/content/ace-it/data_3class_skin_diseases/acne'),Path('/content/ace-it/data_3class_skin_diseases/herpes_simplex'),Path('/content/ace-it/data_3class_skin_diseases/lichen_planus')]"
            ]
          },
          "metadata": {},
          "execution_count": 18
        }
      ]
    },
    {
      "cell_type": "code",
      "metadata": {
        "id": "7j3cxPDCuoip",
        "colab": {
          "base_uri": "https://localhost:8080/"
        },
        "outputId": "8ac47a46-7b93-44c6-8408-e134447af373"
      },
      "source": [
        "!ls data_3class_skin_diseases/acne"
      ],
      "execution_count": 28,
      "outputs": [
        {
          "output_type": "stream",
          "name": "stdout",
          "text": [
            "4-100.jpg     4-102-4.jpg  4-103.jpg\t 4-105-4.jpg  4-107.jpg    4-116-1.jpg\n",
            "4-101-2.jpg   4-102-5.jpg  4-104_S.jpg\t 4-105-5.jpg  4-108.jpg    4-116-2.jpg\n",
            "4-101_S.jpg   4-102-6.jpg  4-105-10.jpg  4-105-6.jpg  4-110.jpg    4-98-1.jpg\n",
            "4-102-11.jpg  4-102-7.jpg  4-105-11.jpg  4-105-7.jpg  4-111.jpg    4-98.jpg\n",
            "4-102-12.jpg  4-102-8.jpg  4-105-1.jpg\t 4-105-9.jpg  4-114.jpg    4-99.jpg\n",
            "4-102-1.jpg   4-102-9.jpg  4-105-2.jpg\t 4-105.jpg    4-115-1.jpg\n",
            "4-102-3.jpg   4-102.jpg    4-105-3.jpg\t 4-106.jpg    4-115.jpg\n"
          ]
        }
      ]
    },
    {
      "cell_type": "markdown",
      "metadata": {
        "id": "YACsa_RPIEv3"
      },
      "source": [
        "Sample tensor and visual check"
      ]
    },
    {
      "cell_type": "code",
      "metadata": {
        "id": "B-CVJERofMDK"
      },
      "source": [
        "from PIL import Image, ImageOps\n",
        "samp = Image.open('/content/ace-it/data_3class_skin_diseases/acne/4-100.jpg')##\n",
        "#show_image(samp);"
      ],
      "execution_count": 7,
      "outputs": []
    },
    {
      "cell_type": "code",
      "metadata": {
        "colab": {
          "base_uri": "https://localhost:8080/"
        },
        "id": "-umvu7TZgesO",
        "outputId": "fd7205a6-5a48-47a3-9dc0-232cf1a6596c"
      },
      "source": [
        "samp_t = tensor(samp)\n",
        "samp_t.shape"
      ],
      "execution_count": null,
      "outputs": [
        {
          "output_type": "execute_result",
          "data": {
            "text/plain": [
              "torch.Size([298, 420, 3])"
            ]
          },
          "metadata": {},
          "execution_count": 11
        }
      ]
    },
    {
      "cell_type": "markdown",
      "metadata": {
        "id": "blGB92LBsn7G"
      },
      "source": [
        "Verify images: remove items that cannot be opened"
      ]
    },
    {
      "cell_type": "code",
      "metadata": {
        "colab": {
          "base_uri": "https://localhost:8080/"
        },
        "id": "_quUKERot7wv",
        "outputId": "45f06a41-ac78-445d-81d7-a0f9d64ffea2"
      },
      "source": [
        "path = Path('/content/ace-it/data_3class_skin_diseases/')\n",
        "sets = ['acne','herpes_simplex','lichen_planus']\n",
        "for s in sets:\n",
        "  sub_path = path/s\n",
        "  no_open = verify_images(sub_path.ls())\n",
        "  print(no_open)\n",
        "  no_open.map(Path.unlink)  # remove image that can't be opened \n"
      ],
      "execution_count": 8,
      "outputs": [
        {
          "output_type": "stream",
          "name": "stdout",
          "text": [
            "[]\n",
            "[]\n",
            "[Path('/content/ace-it/data_3class_skin_diseases/lichen_planus/3-124-2.jpg')]\n"
          ]
        }
      ]
    },
    {
      "cell_type": "code",
      "metadata": {
        "id": "7d21Bf5nt1Tq"
      },
      "source": [
        "!ls data_3class_skin_diseases/lichen_planus\n",
        "# 3-124-2.jpg removed"
      ],
      "execution_count": null,
      "outputs": []
    },
    {
      "cell_type": "markdown",
      "metadata": {
        "id": "M5jDrc8kIr_l"
      },
      "source": [
        "Create DataBlock and DataLoader"
      ]
    },
    {
      "cell_type": "code",
      "metadata": {
        "id": "P22kq6ykcOTz"
      },
      "source": [
        "path = Path('/content/ace-it/data_3class_skin_diseases')\n",
        "\n",
        "dblock = DataBlock(\n",
        "    blocks = (ImageBlock(), CategoryBlock()),\n",
        "    get_items = get_image_files,\n",
        "    splitter = RandomSplitter(seed=42, valid_pct=0.2),\n",
        "    get_y= parent_label,\n",
        "    item_tfms = Resize(460),#\n",
        "    batch_tfms = [(*aug_transforms (size=200, max_rotate=20, max_zoom=1.2)),\n",
        "                  Normalize.from_stats(*imagenet_stats)],\n",
        ")\n",
        "\n",
        "dls = dblock.dataloaders(path, bs = 64)"
      ],
      "execution_count": null,
      "outputs": []
    },
    {
      "cell_type": "markdown",
      "metadata": {
        "id": "fzI_7CRZI5Uu"
      },
      "source": [
        "Visual check"
      ]
    },
    {
      "cell_type": "code",
      "metadata": {
        "id": "RroDo4InniHZ"
      },
      "source": [
        "dls.train.show_batch()"
      ],
      "execution_count": null,
      "outputs": []
    },
    {
      "cell_type": "code",
      "metadata": {
        "id": "hTViCNhb3DmC"
      },
      "source": [
        "dblock.summary(path)"
      ],
      "execution_count": null,
      "outputs": []
    },
    {
      "cell_type": "markdown",
      "metadata": {
        "id": "eBWn6ch9JCvi"
      },
      "source": [
        "Simple CNN architecture"
      ]
    },
    {
      "cell_type": "code",
      "metadata": {
        "id": "Nl1QCntBdLw_"
      },
      "source": [
        "# input 200x200x3\n",
        "cnn = sequential(\n",
        "    (nn.Conv2d(in_channels = 3, out_channels = 8, # \n",
        "              kernel_size = 5,\n",
        "              stride=2,\n",
        "               padding = 5//2)),# 100\n",
        "    (nn.ReLU()),\n",
        "    (nn.BatchNorm2d(8)), \n",
        "\n",
        "    (nn.Conv2d(in_channels = 8, out_channels = 16,\n",
        "          kernel_size = 5,\n",
        "          stride=2,\n",
        "          padding =5//2)), # 50\n",
        "    (nn.ReLU()), \n",
        "    (nn.BatchNorm2d(16)), \n",
        "    \n",
        "    (nn.Conv2d(in_channels = 16, out_channels = 32,\n",
        "          kernel_size = 5,\n",
        "          stride=2,\n",
        "          padding=5//2)), # 25\n",
        "    (nn.ReLU()),\n",
        "    (nn.BatchNorm2d(32)), \n",
        "\n",
        "    (nn.Conv2d(in_channels = 32, out_channels = 64,\n",
        "          kernel_size = 5,\n",
        "          stride=2,\n",
        "          padding=5//2)), # 13\n",
        "    (nn.ReLU()),\n",
        "    (nn.BatchNorm2d(64)), \n",
        "\n",
        "    (nn.Conv2d(in_channels = 64, out_channels = 128,\n",
        "          kernel_size = 5,\n",
        "          stride=2,\n",
        "          padding=5//2)), # 7\n",
        "    (nn.ReLU()),\n",
        "    (nn.BatchNorm2d(128)), \n",
        "\n",
        "    (nn.Conv2d(in_channels = 128, out_channels = 256,\n",
        "          kernel_size = 3,\n",
        "          stride=2,\n",
        "          padding=3//2)), # 4\n",
        "    (nn.ReLU()),\n",
        "    (nn.BatchNorm2d(256)), \n",
        "\n",
        "    (nn.Conv2d(in_channels = 256, out_channels = 512,\n",
        "          kernel_size = 3,\n",
        "          stride=2,\n",
        "          padding=3//2)), # 2\n",
        "    (nn.ReLU()),\n",
        "    (nn.BatchNorm2d(512)), \n",
        "\n",
        "    (nn.Conv2d(in_channels = 512, out_channels = 4,##\n",
        "          kernel_size = 3,\n",
        "          stride=2,\n",
        "          padding =3//2)), # 1\n",
        "          \n",
        "    (Flatten())\n",
        ")"
      ],
      "execution_count": 37,
      "outputs": []
    },
    {
      "cell_type": "markdown",
      "metadata": {
        "id": "Lmq8yHOjJONI"
      },
      "source": [
        "Software for logging and callbacks (optional)"
      ]
    },
    {
      "cell_type": "code",
      "metadata": {
        "id": "SQmB47OGV5YJ"
      },
      "source": [
        "!pip install -qqq wandb\n",
        "\n",
        "import wandb\n",
        "from fastai.callback.wandb import *\n",
        "from fastai.callback.tracker import SaveModelCallback"
      ],
      "execution_count": null,
      "outputs": []
    },
    {
      "cell_type": "code",
      "metadata": {
        "colab": {
          "base_uri": "https://localhost:8080/",
          "height": 124
        },
        "id": "8DUpnMB1XUG0",
        "outputId": "0cb27492-7f2e-48e2-8d8d-0d1a2c689557"
      },
      "source": [
        "wandb.login()"
      ],
      "execution_count": null,
      "outputs": [
        {
          "output_type": "display_data",
          "data": {
            "application/javascript": [
              "\n",
              "        window._wandbApiKey = new Promise((resolve, reject) => {\n",
              "            function loadScript(url) {\n",
              "            return new Promise(function(resolve, reject) {\n",
              "                let newScript = document.createElement(\"script\");\n",
              "                newScript.onerror = reject;\n",
              "                newScript.onload = resolve;\n",
              "                document.body.appendChild(newScript);\n",
              "                newScript.src = url;\n",
              "            });\n",
              "            }\n",
              "            loadScript(\"https://cdn.jsdelivr.net/npm/postmate/build/postmate.min.js\").then(() => {\n",
              "            const iframe = document.createElement('iframe')\n",
              "            iframe.style.cssText = \"width:0;height:0;border:none\"\n",
              "            document.body.appendChild(iframe)\n",
              "            const handshake = new Postmate({\n",
              "                container: iframe,\n",
              "                url: 'https://wandb.ai/authorize'\n",
              "            });\n",
              "            const timeout = setTimeout(() => reject(\"Couldn't auto authenticate\"), 5000)\n",
              "            handshake.then(function(child) {\n",
              "                child.on('authorize', data => {\n",
              "                    clearTimeout(timeout)\n",
              "                    resolve(data)\n",
              "                });\n",
              "            });\n",
              "            })\n",
              "        });\n",
              "    "
            ],
            "text/plain": [
              "<IPython.core.display.Javascript object>"
            ]
          },
          "metadata": {}
        },
        {
          "output_type": "stream",
          "name": "stderr",
          "text": [
            "\u001b[34m\u001b[1mwandb\u001b[0m: You can find your API key in your browser here: https://wandb.ai/authorize\n"
          ]
        },
        {
          "name": "stdout",
          "output_type": "stream",
          "text": [
            "wandb: Paste an API key from your profile and hit enter, or press ctrl+c to quit: ··········\n"
          ]
        },
        {
          "output_type": "stream",
          "name": "stderr",
          "text": [
            "\u001b[34m\u001b[1mwandb\u001b[0m: Appending key for api.wandb.ai to your netrc file: /root/.netrc\n"
          ]
        },
        {
          "output_type": "execute_result",
          "data": {
            "text/plain": [
              "True"
            ]
          },
          "metadata": {},
          "execution_count": 20
        }
      ]
    },
    {
      "cell_type": "code",
      "metadata": {
        "id": "nL4lr-LOXvuC"
      },
      "source": [
        "wandb.init(project = 'Derm',name='simplecnn_nov24_d')"
      ],
      "execution_count": null,
      "outputs": []
    },
    {
      "cell_type": "markdown",
      "metadata": {
        "id": "WmqkYwLyJYaM"
      },
      "source": [
        "Modelling"
      ]
    },
    {
      "cell_type": "code",
      "metadata": {
        "id": "5wrFL1WJdeGx"
      },
      "source": [
        "learn = Learner(dls, cnn, \n",
        "                #loss_func = F.cross_entropy,\n",
        "                metrics = accuracy,\n",
        "                cbs = [WandbCallback(), SaveModelCallback()])"
      ],
      "execution_count": 39,
      "outputs": []
    },
    {
      "cell_type": "code",
      "metadata": {
        "id": "BszXw70zdo-z"
      },
      "source": [
        "lr_valley = learn.lr_find()"
      ],
      "execution_count": null,
      "outputs": []
    },
    {
      "cell_type": "code",
      "metadata": {
        "colab": {
          "base_uri": "https://localhost:8080/",
          "height": 1000
        },
        "id": "0NoZGHMBdLKN",
        "outputId": "cc6a5c7f-d80c-4a42-e07b-d62548060048"
      },
      "source": [
        "learn.fit_one_cycle(n_epoch = 100, lr_max= lr_valley[0]) "
      ],
      "execution_count": 41,
      "outputs": [
        {
          "output_type": "display_data",
          "data": {
            "text/html": [
              "<table border=\"1\" class=\"dataframe\">\n",
              "  <thead>\n",
              "    <tr style=\"text-align: left;\">\n",
              "      <th>epoch</th>\n",
              "      <th>train_loss</th>\n",
              "      <th>valid_loss</th>\n",
              "      <th>accuracy</th>\n",
              "      <th>time</th>\n",
              "    </tr>\n",
              "  </thead>\n",
              "  <tbody>\n",
              "    <tr>\n",
              "      <td>0</td>\n",
              "      <td>1.395820</td>\n",
              "      <td>1.387239</td>\n",
              "      <td>0.227273</td>\n",
              "      <td>00:02</td>\n",
              "    </tr>\n",
              "    <tr>\n",
              "      <td>1</td>\n",
              "      <td>1.405523</td>\n",
              "      <td>1.388464</td>\n",
              "      <td>0.136364</td>\n",
              "      <td>00:03</td>\n",
              "    </tr>\n",
              "    <tr>\n",
              "      <td>2</td>\n",
              "      <td>1.379582</td>\n",
              "      <td>1.388778</td>\n",
              "      <td>0.136364</td>\n",
              "      <td>00:03</td>\n",
              "    </tr>\n",
              "    <tr>\n",
              "      <td>3</td>\n",
              "      <td>1.374881</td>\n",
              "      <td>1.389396</td>\n",
              "      <td>0.136364</td>\n",
              "      <td>00:03</td>\n",
              "    </tr>\n",
              "    <tr>\n",
              "      <td>4</td>\n",
              "      <td>1.378777</td>\n",
              "      <td>1.390464</td>\n",
              "      <td>0.136364</td>\n",
              "      <td>00:03</td>\n",
              "    </tr>\n",
              "    <tr>\n",
              "      <td>5</td>\n",
              "      <td>1.364425</td>\n",
              "      <td>1.392397</td>\n",
              "      <td>0.136364</td>\n",
              "      <td>00:03</td>\n",
              "    </tr>\n",
              "    <tr>\n",
              "      <td>6</td>\n",
              "      <td>1.364212</td>\n",
              "      <td>1.393278</td>\n",
              "      <td>0.136364</td>\n",
              "      <td>00:03</td>\n",
              "    </tr>\n",
              "    <tr>\n",
              "      <td>7</td>\n",
              "      <td>1.357760</td>\n",
              "      <td>1.393510</td>\n",
              "      <td>0.136364</td>\n",
              "      <td>00:03</td>\n",
              "    </tr>\n",
              "    <tr>\n",
              "      <td>8</td>\n",
              "      <td>1.338978</td>\n",
              "      <td>1.393504</td>\n",
              "      <td>0.090909</td>\n",
              "      <td>00:03</td>\n",
              "    </tr>\n",
              "    <tr>\n",
              "      <td>9</td>\n",
              "      <td>1.327145</td>\n",
              "      <td>1.393160</td>\n",
              "      <td>0.090909</td>\n",
              "      <td>00:02</td>\n",
              "    </tr>\n",
              "    <tr>\n",
              "      <td>10</td>\n",
              "      <td>1.313560</td>\n",
              "      <td>1.391852</td>\n",
              "      <td>0.136364</td>\n",
              "      <td>00:02</td>\n",
              "    </tr>\n",
              "    <tr>\n",
              "      <td>11</td>\n",
              "      <td>1.301012</td>\n",
              "      <td>1.387489</td>\n",
              "      <td>0.227273</td>\n",
              "      <td>00:02</td>\n",
              "    </tr>\n",
              "    <tr>\n",
              "      <td>12</td>\n",
              "      <td>1.285573</td>\n",
              "      <td>1.379644</td>\n",
              "      <td>0.545455</td>\n",
              "      <td>00:02</td>\n",
              "    </tr>\n",
              "    <tr>\n",
              "      <td>13</td>\n",
              "      <td>1.260759</td>\n",
              "      <td>1.369082</td>\n",
              "      <td>0.590909</td>\n",
              "      <td>00:02</td>\n",
              "    </tr>\n",
              "    <tr>\n",
              "      <td>14</td>\n",
              "      <td>1.241623</td>\n",
              "      <td>1.356279</td>\n",
              "      <td>0.590909</td>\n",
              "      <td>00:02</td>\n",
              "    </tr>\n",
              "    <tr>\n",
              "      <td>15</td>\n",
              "      <td>1.224015</td>\n",
              "      <td>1.342715</td>\n",
              "      <td>0.590909</td>\n",
              "      <td>00:02</td>\n",
              "    </tr>\n",
              "    <tr>\n",
              "      <td>16</td>\n",
              "      <td>1.203730</td>\n",
              "      <td>1.324781</td>\n",
              "      <td>0.590909</td>\n",
              "      <td>00:02</td>\n",
              "    </tr>\n",
              "    <tr>\n",
              "      <td>17</td>\n",
              "      <td>1.183688</td>\n",
              "      <td>1.305726</td>\n",
              "      <td>0.590909</td>\n",
              "      <td>00:02</td>\n",
              "    </tr>\n",
              "    <tr>\n",
              "      <td>18</td>\n",
              "      <td>1.163457</td>\n",
              "      <td>1.282688</td>\n",
              "      <td>0.590909</td>\n",
              "      <td>00:02</td>\n",
              "    </tr>\n",
              "    <tr>\n",
              "      <td>19</td>\n",
              "      <td>1.146151</td>\n",
              "      <td>1.257982</td>\n",
              "      <td>0.590909</td>\n",
              "      <td>00:02</td>\n",
              "    </tr>\n",
              "    <tr>\n",
              "      <td>20</td>\n",
              "      <td>1.128540</td>\n",
              "      <td>1.234240</td>\n",
              "      <td>0.636364</td>\n",
              "      <td>00:02</td>\n",
              "    </tr>\n",
              "    <tr>\n",
              "      <td>21</td>\n",
              "      <td>1.107478</td>\n",
              "      <td>1.214206</td>\n",
              "      <td>0.590909</td>\n",
              "      <td>00:02</td>\n",
              "    </tr>\n",
              "    <tr>\n",
              "      <td>22</td>\n",
              "      <td>1.085932</td>\n",
              "      <td>1.193325</td>\n",
              "      <td>0.545455</td>\n",
              "      <td>00:02</td>\n",
              "    </tr>\n",
              "    <tr>\n",
              "      <td>23</td>\n",
              "      <td>1.068492</td>\n",
              "      <td>1.167056</td>\n",
              "      <td>0.545455</td>\n",
              "      <td>00:02</td>\n",
              "    </tr>\n",
              "    <tr>\n",
              "      <td>24</td>\n",
              "      <td>1.053227</td>\n",
              "      <td>1.140110</td>\n",
              "      <td>0.500000</td>\n",
              "      <td>00:02</td>\n",
              "    </tr>\n",
              "    <tr>\n",
              "      <td>25</td>\n",
              "      <td>1.039224</td>\n",
              "      <td>1.103041</td>\n",
              "      <td>0.500000</td>\n",
              "      <td>00:02</td>\n",
              "    </tr>\n",
              "    <tr>\n",
              "      <td>26</td>\n",
              "      <td>1.019124</td>\n",
              "      <td>1.072951</td>\n",
              "      <td>0.500000</td>\n",
              "      <td>00:02</td>\n",
              "    </tr>\n",
              "    <tr>\n",
              "      <td>27</td>\n",
              "      <td>1.000874</td>\n",
              "      <td>1.048220</td>\n",
              "      <td>0.500000</td>\n",
              "      <td>00:02</td>\n",
              "    </tr>\n",
              "    <tr>\n",
              "      <td>28</td>\n",
              "      <td>0.983126</td>\n",
              "      <td>1.022357</td>\n",
              "      <td>0.545455</td>\n",
              "      <td>00:02</td>\n",
              "    </tr>\n",
              "    <tr>\n",
              "      <td>29</td>\n",
              "      <td>0.969231</td>\n",
              "      <td>1.016684</td>\n",
              "      <td>0.500000</td>\n",
              "      <td>00:02</td>\n",
              "    </tr>\n",
              "    <tr>\n",
              "      <td>30</td>\n",
              "      <td>0.951201</td>\n",
              "      <td>1.020175</td>\n",
              "      <td>0.500000</td>\n",
              "      <td>00:02</td>\n",
              "    </tr>\n",
              "    <tr>\n",
              "      <td>31</td>\n",
              "      <td>0.936891</td>\n",
              "      <td>1.028442</td>\n",
              "      <td>0.409091</td>\n",
              "      <td>00:02</td>\n",
              "    </tr>\n",
              "    <tr>\n",
              "      <td>32</td>\n",
              "      <td>0.922335</td>\n",
              "      <td>1.026033</td>\n",
              "      <td>0.500000</td>\n",
              "      <td>00:02</td>\n",
              "    </tr>\n",
              "    <tr>\n",
              "      <td>33</td>\n",
              "      <td>0.907966</td>\n",
              "      <td>1.022078</td>\n",
              "      <td>0.500000</td>\n",
              "      <td>00:02</td>\n",
              "    </tr>\n",
              "    <tr>\n",
              "      <td>34</td>\n",
              "      <td>0.895133</td>\n",
              "      <td>0.972128</td>\n",
              "      <td>0.545455</td>\n",
              "      <td>00:02</td>\n",
              "    </tr>\n",
              "    <tr>\n",
              "      <td>35</td>\n",
              "      <td>0.883273</td>\n",
              "      <td>0.938178</td>\n",
              "      <td>0.636364</td>\n",
              "      <td>00:02</td>\n",
              "    </tr>\n",
              "    <tr>\n",
              "      <td>36</td>\n",
              "      <td>0.869234</td>\n",
              "      <td>0.940740</td>\n",
              "      <td>0.590909</td>\n",
              "      <td>00:02</td>\n",
              "    </tr>\n",
              "    <tr>\n",
              "      <td>37</td>\n",
              "      <td>0.859271</td>\n",
              "      <td>0.961371</td>\n",
              "      <td>0.545455</td>\n",
              "      <td>00:02</td>\n",
              "    </tr>\n",
              "    <tr>\n",
              "      <td>38</td>\n",
              "      <td>0.848962</td>\n",
              "      <td>0.989410</td>\n",
              "      <td>0.545455</td>\n",
              "      <td>00:02</td>\n",
              "    </tr>\n",
              "    <tr>\n",
              "      <td>39</td>\n",
              "      <td>0.839281</td>\n",
              "      <td>1.047222</td>\n",
              "      <td>0.409091</td>\n",
              "      <td>00:02</td>\n",
              "    </tr>\n",
              "    <tr>\n",
              "      <td>40</td>\n",
              "      <td>0.828007</td>\n",
              "      <td>1.087662</td>\n",
              "      <td>0.409091</td>\n",
              "      <td>00:02</td>\n",
              "    </tr>\n",
              "    <tr>\n",
              "      <td>41</td>\n",
              "      <td>0.815299</td>\n",
              "      <td>1.116909</td>\n",
              "      <td>0.409091</td>\n",
              "      <td>00:02</td>\n",
              "    </tr>\n",
              "    <tr>\n",
              "      <td>42</td>\n",
              "      <td>0.801592</td>\n",
              "      <td>1.114926</td>\n",
              "      <td>0.454545</td>\n",
              "      <td>00:02</td>\n",
              "    </tr>\n",
              "    <tr>\n",
              "      <td>43</td>\n",
              "      <td>0.793775</td>\n",
              "      <td>1.061787</td>\n",
              "      <td>0.500000</td>\n",
              "      <td>00:02</td>\n",
              "    </tr>\n",
              "    <tr>\n",
              "      <td>44</td>\n",
              "      <td>0.782723</td>\n",
              "      <td>1.007604</td>\n",
              "      <td>0.545455</td>\n",
              "      <td>00:02</td>\n",
              "    </tr>\n",
              "    <tr>\n",
              "      <td>45</td>\n",
              "      <td>0.767629</td>\n",
              "      <td>0.972568</td>\n",
              "      <td>0.545455</td>\n",
              "      <td>00:02</td>\n",
              "    </tr>\n",
              "    <tr>\n",
              "      <td>46</td>\n",
              "      <td>0.756537</td>\n",
              "      <td>0.912820</td>\n",
              "      <td>0.545455</td>\n",
              "      <td>00:02</td>\n",
              "    </tr>\n",
              "    <tr>\n",
              "      <td>47</td>\n",
              "      <td>0.746867</td>\n",
              "      <td>0.910756</td>\n",
              "      <td>0.500000</td>\n",
              "      <td>00:02</td>\n",
              "    </tr>\n",
              "    <tr>\n",
              "      <td>48</td>\n",
              "      <td>0.736213</td>\n",
              "      <td>0.910376</td>\n",
              "      <td>0.545455</td>\n",
              "      <td>00:02</td>\n",
              "    </tr>\n",
              "    <tr>\n",
              "      <td>49</td>\n",
              "      <td>0.725998</td>\n",
              "      <td>0.897090</td>\n",
              "      <td>0.545455</td>\n",
              "      <td>00:02</td>\n",
              "    </tr>\n",
              "    <tr>\n",
              "      <td>50</td>\n",
              "      <td>0.719747</td>\n",
              "      <td>0.889319</td>\n",
              "      <td>0.545455</td>\n",
              "      <td>00:02</td>\n",
              "    </tr>\n",
              "    <tr>\n",
              "      <td>51</td>\n",
              "      <td>0.712224</td>\n",
              "      <td>0.877998</td>\n",
              "      <td>0.545455</td>\n",
              "      <td>00:02</td>\n",
              "    </tr>\n",
              "    <tr>\n",
              "      <td>52</td>\n",
              "      <td>0.703003</td>\n",
              "      <td>0.885055</td>\n",
              "      <td>0.636364</td>\n",
              "      <td>00:02</td>\n",
              "    </tr>\n",
              "    <tr>\n",
              "      <td>53</td>\n",
              "      <td>0.694630</td>\n",
              "      <td>0.898642</td>\n",
              "      <td>0.636364</td>\n",
              "      <td>00:02</td>\n",
              "    </tr>\n",
              "    <tr>\n",
              "      <td>54</td>\n",
              "      <td>0.686388</td>\n",
              "      <td>0.904706</td>\n",
              "      <td>0.636364</td>\n",
              "      <td>00:02</td>\n",
              "    </tr>\n",
              "    <tr>\n",
              "      <td>55</td>\n",
              "      <td>0.678168</td>\n",
              "      <td>0.892745</td>\n",
              "      <td>0.590909</td>\n",
              "      <td>00:02</td>\n",
              "    </tr>\n",
              "    <tr>\n",
              "      <td>56</td>\n",
              "      <td>0.669416</td>\n",
              "      <td>0.876837</td>\n",
              "      <td>0.590909</td>\n",
              "      <td>00:02</td>\n",
              "    </tr>\n",
              "    <tr>\n",
              "      <td>57</td>\n",
              "      <td>0.662298</td>\n",
              "      <td>0.862265</td>\n",
              "      <td>0.590909</td>\n",
              "      <td>00:02</td>\n",
              "    </tr>\n",
              "    <tr>\n",
              "      <td>58</td>\n",
              "      <td>0.654830</td>\n",
              "      <td>0.858743</td>\n",
              "      <td>0.681818</td>\n",
              "      <td>00:02</td>\n",
              "    </tr>\n",
              "    <tr>\n",
              "      <td>59</td>\n",
              "      <td>0.647087</td>\n",
              "      <td>0.871715</td>\n",
              "      <td>0.727273</td>\n",
              "      <td>00:02</td>\n",
              "    </tr>\n",
              "    <tr>\n",
              "      <td>60</td>\n",
              "      <td>0.639153</td>\n",
              "      <td>0.880816</td>\n",
              "      <td>0.727273</td>\n",
              "      <td>00:02</td>\n",
              "    </tr>\n",
              "    <tr>\n",
              "      <td>61</td>\n",
              "      <td>0.630422</td>\n",
              "      <td>0.888030</td>\n",
              "      <td>0.727273</td>\n",
              "      <td>00:02</td>\n",
              "    </tr>\n",
              "    <tr>\n",
              "      <td>62</td>\n",
              "      <td>0.625482</td>\n",
              "      <td>0.890941</td>\n",
              "      <td>0.727273</td>\n",
              "      <td>00:02</td>\n",
              "    </tr>\n",
              "    <tr>\n",
              "      <td>63</td>\n",
              "      <td>0.617059</td>\n",
              "      <td>0.898949</td>\n",
              "      <td>0.727273</td>\n",
              "      <td>00:02</td>\n",
              "    </tr>\n",
              "    <tr>\n",
              "      <td>64</td>\n",
              "      <td>0.607994</td>\n",
              "      <td>0.900464</td>\n",
              "      <td>0.681818</td>\n",
              "      <td>00:02</td>\n",
              "    </tr>\n",
              "    <tr>\n",
              "      <td>65</td>\n",
              "      <td>0.602526</td>\n",
              "      <td>0.902710</td>\n",
              "      <td>0.681818</td>\n",
              "      <td>00:02</td>\n",
              "    </tr>\n",
              "    <tr>\n",
              "      <td>66</td>\n",
              "      <td>0.595179</td>\n",
              "      <td>0.901640</td>\n",
              "      <td>0.681818</td>\n",
              "      <td>00:02</td>\n",
              "    </tr>\n",
              "    <tr>\n",
              "      <td>67</td>\n",
              "      <td>0.592913</td>\n",
              "      <td>0.915214</td>\n",
              "      <td>0.681818</td>\n",
              "      <td>00:02</td>\n",
              "    </tr>\n",
              "    <tr>\n",
              "      <td>68</td>\n",
              "      <td>0.589090</td>\n",
              "      <td>0.920088</td>\n",
              "      <td>0.681818</td>\n",
              "      <td>00:02</td>\n",
              "    </tr>\n",
              "    <tr>\n",
              "      <td>69</td>\n",
              "      <td>0.583296</td>\n",
              "      <td>0.917767</td>\n",
              "      <td>0.681818</td>\n",
              "      <td>00:02</td>\n",
              "    </tr>\n",
              "    <tr>\n",
              "      <td>70</td>\n",
              "      <td>0.576669</td>\n",
              "      <td>0.928278</td>\n",
              "      <td>0.681818</td>\n",
              "      <td>00:02</td>\n",
              "    </tr>\n",
              "    <tr>\n",
              "      <td>71</td>\n",
              "      <td>0.570832</td>\n",
              "      <td>0.935027</td>\n",
              "      <td>0.681818</td>\n",
              "      <td>00:02</td>\n",
              "    </tr>\n",
              "    <tr>\n",
              "      <td>72</td>\n",
              "      <td>0.562554</td>\n",
              "      <td>0.935463</td>\n",
              "      <td>0.681818</td>\n",
              "      <td>00:02</td>\n",
              "    </tr>\n",
              "    <tr>\n",
              "      <td>73</td>\n",
              "      <td>0.555582</td>\n",
              "      <td>0.937692</td>\n",
              "      <td>0.636364</td>\n",
              "      <td>00:02</td>\n",
              "    </tr>\n",
              "    <tr>\n",
              "      <td>74</td>\n",
              "      <td>0.549550</td>\n",
              "      <td>0.935424</td>\n",
              "      <td>0.590909</td>\n",
              "      <td>00:02</td>\n",
              "    </tr>\n",
              "    <tr>\n",
              "      <td>75</td>\n",
              "      <td>0.544660</td>\n",
              "      <td>0.941010</td>\n",
              "      <td>0.590909</td>\n",
              "      <td>00:02</td>\n",
              "    </tr>\n",
              "    <tr>\n",
              "      <td>76</td>\n",
              "      <td>0.538841</td>\n",
              "      <td>0.947358</td>\n",
              "      <td>0.590909</td>\n",
              "      <td>00:02</td>\n",
              "    </tr>\n",
              "    <tr>\n",
              "      <td>77</td>\n",
              "      <td>0.534661</td>\n",
              "      <td>0.948027</td>\n",
              "      <td>0.636364</td>\n",
              "      <td>00:02</td>\n",
              "    </tr>\n",
              "    <tr>\n",
              "      <td>78</td>\n",
              "      <td>0.529077</td>\n",
              "      <td>0.947681</td>\n",
              "      <td>0.636364</td>\n",
              "      <td>00:02</td>\n",
              "    </tr>\n",
              "    <tr>\n",
              "      <td>79</td>\n",
              "      <td>0.526582</td>\n",
              "      <td>0.951866</td>\n",
              "      <td>0.636364</td>\n",
              "      <td>00:02</td>\n",
              "    </tr>\n",
              "    <tr>\n",
              "      <td>80</td>\n",
              "      <td>0.520153</td>\n",
              "      <td>0.942649</td>\n",
              "      <td>0.590909</td>\n",
              "      <td>00:02</td>\n",
              "    </tr>\n",
              "    <tr>\n",
              "      <td>81</td>\n",
              "      <td>0.512001</td>\n",
              "      <td>0.945126</td>\n",
              "      <td>0.590909</td>\n",
              "      <td>00:02</td>\n",
              "    </tr>\n",
              "    <tr>\n",
              "      <td>82</td>\n",
              "      <td>0.506637</td>\n",
              "      <td>0.945590</td>\n",
              "      <td>0.590909</td>\n",
              "      <td>00:02</td>\n",
              "    </tr>\n",
              "    <tr>\n",
              "      <td>83</td>\n",
              "      <td>0.501201</td>\n",
              "      <td>0.946949</td>\n",
              "      <td>0.590909</td>\n",
              "      <td>00:02</td>\n",
              "    </tr>\n",
              "    <tr>\n",
              "      <td>84</td>\n",
              "      <td>0.497591</td>\n",
              "      <td>0.937628</td>\n",
              "      <td>0.590909</td>\n",
              "      <td>00:02</td>\n",
              "    </tr>\n",
              "    <tr>\n",
              "      <td>85</td>\n",
              "      <td>0.493616</td>\n",
              "      <td>0.939639</td>\n",
              "      <td>0.636364</td>\n",
              "      <td>00:02</td>\n",
              "    </tr>\n",
              "    <tr>\n",
              "      <td>86</td>\n",
              "      <td>0.490136</td>\n",
              "      <td>0.942735</td>\n",
              "      <td>0.636364</td>\n",
              "      <td>00:02</td>\n",
              "    </tr>\n",
              "    <tr>\n",
              "      <td>87</td>\n",
              "      <td>0.487576</td>\n",
              "      <td>0.950881</td>\n",
              "      <td>0.636364</td>\n",
              "      <td>00:02</td>\n",
              "    </tr>\n",
              "    <tr>\n",
              "      <td>88</td>\n",
              "      <td>0.483677</td>\n",
              "      <td>0.945160</td>\n",
              "      <td>0.636364</td>\n",
              "      <td>00:02</td>\n",
              "    </tr>\n",
              "    <tr>\n",
              "      <td>89</td>\n",
              "      <td>0.481235</td>\n",
              "      <td>0.953210</td>\n",
              "      <td>0.590909</td>\n",
              "      <td>00:02</td>\n",
              "    </tr>\n",
              "    <tr>\n",
              "      <td>90</td>\n",
              "      <td>0.478689</td>\n",
              "      <td>0.946398</td>\n",
              "      <td>0.590909</td>\n",
              "      <td>00:02</td>\n",
              "    </tr>\n",
              "    <tr>\n",
              "      <td>91</td>\n",
              "      <td>0.472762</td>\n",
              "      <td>0.952921</td>\n",
              "      <td>0.590909</td>\n",
              "      <td>00:02</td>\n",
              "    </tr>\n",
              "    <tr>\n",
              "      <td>92</td>\n",
              "      <td>0.468703</td>\n",
              "      <td>0.942483</td>\n",
              "      <td>0.590909</td>\n",
              "      <td>00:02</td>\n",
              "    </tr>\n",
              "    <tr>\n",
              "      <td>93</td>\n",
              "      <td>0.466274</td>\n",
              "      <td>0.944890</td>\n",
              "      <td>0.590909</td>\n",
              "      <td>00:02</td>\n",
              "    </tr>\n",
              "    <tr>\n",
              "      <td>94</td>\n",
              "      <td>0.460035</td>\n",
              "      <td>0.941441</td>\n",
              "      <td>0.590909</td>\n",
              "      <td>00:02</td>\n",
              "    </tr>\n",
              "    <tr>\n",
              "      <td>95</td>\n",
              "      <td>0.455981</td>\n",
              "      <td>0.944877</td>\n",
              "      <td>0.590909</td>\n",
              "      <td>00:02</td>\n",
              "    </tr>\n",
              "    <tr>\n",
              "      <td>96</td>\n",
              "      <td>0.451873</td>\n",
              "      <td>0.939750</td>\n",
              "      <td>0.590909</td>\n",
              "      <td>00:02</td>\n",
              "    </tr>\n",
              "    <tr>\n",
              "      <td>97</td>\n",
              "      <td>0.448341</td>\n",
              "      <td>0.943064</td>\n",
              "      <td>0.590909</td>\n",
              "      <td>00:02</td>\n",
              "    </tr>\n",
              "    <tr>\n",
              "      <td>98</td>\n",
              "      <td>0.446513</td>\n",
              "      <td>0.945753</td>\n",
              "      <td>0.590909</td>\n",
              "      <td>00:02</td>\n",
              "    </tr>\n",
              "    <tr>\n",
              "      <td>99</td>\n",
              "      <td>0.443164</td>\n",
              "      <td>0.950051</td>\n",
              "      <td>0.590909</td>\n",
              "      <td>00:02</td>\n",
              "    </tr>\n",
              "  </tbody>\n",
              "</table>"
            ],
            "text/plain": [
              "<IPython.core.display.HTML object>"
            ]
          },
          "metadata": {}
        },
        {
          "output_type": "stream",
          "name": "stdout",
          "text": [
            "Better model found at epoch 0 with valid_loss value: 1.3872387409210205.\n",
            "WandbCallback was not able to get prediction samples -> list index out of range\n",
            "Better model found at epoch 12 with valid_loss value: 1.3796441555023193.\n",
            "Better model found at epoch 13 with valid_loss value: 1.3690818548202515.\n",
            "Better model found at epoch 14 with valid_loss value: 1.3562787771224976.\n",
            "Better model found at epoch 15 with valid_loss value: 1.3427153825759888.\n",
            "Better model found at epoch 16 with valid_loss value: 1.3247805833816528.\n",
            "Better model found at epoch 17 with valid_loss value: 1.305726170539856.\n",
            "Better model found at epoch 18 with valid_loss value: 1.2826879024505615.\n",
            "Better model found at epoch 19 with valid_loss value: 1.257981777191162.\n",
            "Better model found at epoch 20 with valid_loss value: 1.2342404127120972.\n",
            "Better model found at epoch 21 with valid_loss value: 1.2142055034637451.\n",
            "Better model found at epoch 22 with valid_loss value: 1.1933249235153198.\n",
            "Better model found at epoch 23 with valid_loss value: 1.1670560836791992.\n",
            "Better model found at epoch 24 with valid_loss value: 1.1401104927062988.\n",
            "Better model found at epoch 25 with valid_loss value: 1.103041410446167.\n",
            "Better model found at epoch 26 with valid_loss value: 1.0729506015777588.\n",
            "Better model found at epoch 27 with valid_loss value: 1.0482197999954224.\n",
            "Better model found at epoch 28 with valid_loss value: 1.0223568677902222.\n",
            "Better model found at epoch 29 with valid_loss value: 1.0166840553283691.\n",
            "Better model found at epoch 34 with valid_loss value: 0.9721277356147766.\n",
            "Better model found at epoch 35 with valid_loss value: 0.9381782412528992.\n",
            "Better model found at epoch 46 with valid_loss value: 0.9128199219703674.\n",
            "Better model found at epoch 47 with valid_loss value: 0.9107555747032166.\n",
            "Better model found at epoch 48 with valid_loss value: 0.9103763699531555.\n",
            "Better model found at epoch 49 with valid_loss value: 0.8970895409584045.\n",
            "Better model found at epoch 50 with valid_loss value: 0.8893188238143921.\n",
            "Better model found at epoch 51 with valid_loss value: 0.8779977560043335.\n",
            "Better model found at epoch 56 with valid_loss value: 0.8768373727798462.\n",
            "Better model found at epoch 57 with valid_loss value: 0.8622648119926453.\n",
            "Better model found at epoch 58 with valid_loss value: 0.8587429523468018.\n"
          ]
        }
      ]
    },
    {
      "cell_type": "code",
      "metadata": {
        "colab": {
          "base_uri": "https://localhost:8080/",
          "height": 54
        },
        "id": "7D9NJP9-dLGY",
        "outputId": "f2f948aa-ed1a-46d9-cd35-ab3d3421dcea"
      },
      "source": [
        "#preds, targs = learn.tta()\n",
        "#accuracy(preds, targs).item()"
      ],
      "execution_count": 55,
      "outputs": [
        {
          "output_type": "display_data",
          "data": {
            "text/html": [
              "\n",
              "    <div>\n",
              "        <style>\n",
              "            /* Turns off some styling */\n",
              "            progress {\n",
              "                /* gets rid of default border in Firefox and Opera. */\n",
              "                border: none;\n",
              "                /* Needs to be in here for Safari polyfill so background images work as expected. */\n",
              "                background-size: auto;\n",
              "            }\n",
              "            .progress-bar-interrupted, .progress-bar-interrupted::-webkit-progress-bar {\n",
              "                background: #F44336;\n",
              "            }\n",
              "        </style>\n",
              "      <progress value='0' class='' max='100' style='width:300px; height:20px; vertical-align: middle;'></progress>\n",
              "      \n",
              "    </div>\n",
              "    \n"
            ],
            "text/plain": [
              "<IPython.core.display.HTML object>"
            ]
          },
          "metadata": {}
        },
        {
          "output_type": "display_data",
          "data": {
            "text/html": [
              ""
            ],
            "text/plain": [
              "<IPython.core.display.HTML object>"
            ]
          },
          "metadata": {}
        },
        {
          "output_type": "execute_result",
          "data": {
            "text/plain": [
              "0.5909090638160706"
            ]
          },
          "metadata": {},
          "execution_count": 55
        }
      ]
    },
    {
      "cell_type": "code",
      "metadata": {
        "colab": {
          "base_uri": "https://localhost:8080/"
        },
        "id": "pfyi6yt17q31",
        "outputId": "f7656a25-3fdc-4b89-f69c-c785bfcf4ef2"
      },
      "source": [
        "#print(len(targs))\n",
        "#print(targs)"
      ],
      "execution_count": null,
      "outputs": [
        {
          "output_type": "stream",
          "name": "stdout",
          "text": [
            "22\n",
            "TensorCategory([0, 0, 1, 0, 2, 2, 1, 0, 0, 2, 0, 0, 2, 0, 0, 2, 0, 2, 0, 2, 2, 1])\n"
          ]
        }
      ]
    },
    {
      "cell_type": "markdown",
      "metadata": {
        "id": "UJNlq-q0MHth"
      },
      "source": [
        "Checking predictions for the validation set"
      ]
    },
    {
      "cell_type": "code",
      "metadata": {
        "colab": {
          "base_uri": "https://localhost:8080/",
          "height": 311
        },
        "id": "7WSa2tio0NPL",
        "outputId": "b6f07ba4-fbd0-4d97-f179-0cd1b83d3e6c"
      },
      "source": [
        "interp = ClassificationInterpretation.from_learner(learn)\n",
        "interp.plot_confusion_matrix()"
      ],
      "execution_count": 42,
      "outputs": [
        {
          "output_type": "display_data",
          "data": {
            "text/html": [
              ""
            ],
            "text/plain": [
              "<IPython.core.display.HTML object>"
            ]
          },
          "metadata": {}
        },
        {
          "output_type": "display_data",
          "data": {
            "image/png": "[encoded data removed]",
            "text/plain": [
              "<Figure size 432x288 with 1 Axes>"
            ]
          },
          "metadata": {
            "needs_background": "light"
          }
        }
      ]
    },
    {
      "cell_type": "markdown",
      "metadata": {
        "id": "HnoDfGOHOXKd"
      },
      "source": [
        "Option to do Inference prior to saving the Model"
      ]
    },
    {
      "cell_type": "code",
      "metadata": {
        "colab": {
          "base_uri": "https://localhost:8080/"
        },
        "id": "ZXGfzyVUEvpU",
        "outputId": "dbe096f0-9dc0-47ad-b7a0-39bf4cc9a62f"
      },
      "source": [
        "!ls test"
      ],
      "execution_count": null,
      "outputs": [
        {
          "output_type": "stream",
          "name": "stdout",
          "text": [
            "acne  herpes_simplex  lichen_planus  README.md\n"
          ]
        }
      ]
    },
    {
      "cell_type": "code",
      "metadata": {
        "id": "8AKvayutHsRA"
      },
      "source": [
        "test_path = Path('test')"
      ],
      "execution_count": 43,
      "outputs": []
    },
    {
      "cell_type": "code",
      "metadata": {
        "colab": {
          "base_uri": "https://localhost:8080/"
        },
        "id": "QjNBOU2cJlyG",
        "outputId": "dbf80099-2d93-4ba2-a7bc-8c404a7af1b0"
      },
      "source": [
        "test_path.ls()"
      ],
      "execution_count": null,
      "outputs": [
        {
          "output_type": "execute_result",
          "data": {
            "text/plain": [
              "(#4) [Path('test/lichen_planus'),Path('test/herpes_simplex'),Path('test/acne'),Path('test/README.md')]"
            ]
          },
          "metadata": {},
          "execution_count": 76
        }
      ]
    },
    {
      "cell_type": "code",
      "metadata": {
        "id": "pFfczw66Hzch"
      },
      "source": [
        "test_images = get_image_files(test_path)\n",
        "#image_array = [PIL.Image.open(file) for file in test_images]\n",
        "#image_array = [image.convert('RGB') for image in image_array]"
      ],
      "execution_count": 18,
      "outputs": []
    },
    {
      "cell_type": "code",
      "metadata": {
        "colab": {
          "base_uri": "https://localhost:8080/"
        },
        "id": "3r4qhwHZz6el",
        "outputId": "9b649d95-69e7-4f09-cc83-9ca7b2033c81"
      },
      "source": [
        "test_images"
      ],
      "execution_count": null,
      "outputs": [
        {
          "output_type": "execute_result",
          "data": {
            "text/plain": [
              "(#9) [Path('test/lichen_planus/test3_lich.jpeg'),Path('test/lichen_planus/test1_lich.jpeg'),Path('test/lichen_planus/test2_lich.jpeg'),Path('test/herpes_simplex/test2_herp.jpeg'),Path('test/herpes_simplex/test3_herp.jpeg'),Path('test/herpes_simplex/test1_herp.jpeg'),Path('test/acne/test2_acne.jpeg'),Path('test/acne/test1_acne.jpeg'),Path('test/acne/test3_acne.jpeg')]"
            ]
          },
          "metadata": {},
          "execution_count": 78
        }
      ]
    },
    {
      "cell_type": "code",
      "metadata": {
        "id": "QArjYuK2PyUs"
      },
      "source": [
        "ground_list = []\n",
        "for i in range(len(test_images)):\n",
        "  ground = test_images[i]\n",
        "  ground_list.append(str(ground))"
      ],
      "execution_count": 44,
      "outputs": []
    },
    {
      "cell_type": "code",
      "metadata": {
        "colab": {
          "base_uri": "https://localhost:8080/",
          "height": 17
        },
        "id": "tpb6fzkbPyRw",
        "outputId": "fd10ec35-c00d-4839-86cd-a5cca57b68b3"
      },
      "source": [
        "predicted_list = []\n",
        "for i in range(len(test_images)):\n",
        "  predicted = learn.predict(test_images[i])[0]\n",
        "  predicted_list.append(str(predicted))"
      ],
      "execution_count": 45,
      "outputs": [
        {
          "output_type": "display_data",
          "data": {
            "text/html": [
              ""
            ],
            "text/plain": [
              "<IPython.core.display.HTML object>"
            ]
          },
          "metadata": {}
        },
        {
          "output_type": "display_data",
          "data": {
            "text/html": [
              ""
            ],
            "text/plain": [
              "<IPython.core.display.HTML object>"
            ]
          },
          "metadata": {}
        },
        {
          "output_type": "display_data",
          "data": {
            "text/html": [
              ""
            ],
            "text/plain": [
              "<IPython.core.display.HTML object>"
            ]
          },
          "metadata": {}
        },
        {
          "output_type": "display_data",
          "data": {
            "text/html": [
              ""
            ],
            "text/plain": [
              "<IPython.core.display.HTML object>"
            ]
          },
          "metadata": {}
        },
        {
          "output_type": "display_data",
          "data": {
            "text/html": [
              ""
            ],
            "text/plain": [
              "<IPython.core.display.HTML object>"
            ]
          },
          "metadata": {}
        },
        {
          "output_type": "display_data",
          "data": {
            "text/html": [
              ""
            ],
            "text/plain": [
              "<IPython.core.display.HTML object>"
            ]
          },
          "metadata": {}
        },
        {
          "output_type": "display_data",
          "data": {
            "text/html": [
              ""
            ],
            "text/plain": [
              "<IPython.core.display.HTML object>"
            ]
          },
          "metadata": {}
        },
        {
          "output_type": "display_data",
          "data": {
            "text/html": [
              ""
            ],
            "text/plain": [
              "<IPython.core.display.HTML object>"
            ]
          },
          "metadata": {}
        },
        {
          "output_type": "display_data",
          "data": {
            "text/html": [
              ""
            ],
            "text/plain": [
              "<IPython.core.display.HTML object>"
            ]
          },
          "metadata": {}
        }
      ]
    },
    {
      "cell_type": "code",
      "metadata": {
        "id": "FLr3wlgQ5VDp"
      },
      "source": [
        "for i in range(len(predicted_list)):\n",
        "  predicted_list[i] = predicted_list[i][:4]"
      ],
      "execution_count": 46,
      "outputs": []
    },
    {
      "cell_type": "code",
      "metadata": {
        "id": "wkZxzNp41KNA"
      },
      "source": [
        "for i in range(len(ground_list)):\n",
        "  ground_list[i] = ground_list[i][-9:-5]"
      ],
      "execution_count": 47,
      "outputs": []
    },
    {
      "cell_type": "code",
      "metadata": {
        "colab": {
          "base_uri": "https://localhost:8080/"
        },
        "id": "zG98urrSTS1i",
        "outputId": "b37fe366-2c84-4656-afc9-048b8caa97b9"
      },
      "source": [
        "list(zip(ground_list, predicted_list))"
      ],
      "execution_count": 48,
      "outputs": [
        {
          "output_type": "execute_result",
          "data": {
            "text/plain": [
              "[('lich', 'acne'),\n",
              " ('lich', 'lich'),\n",
              " ('lich', 'lich'),\n",
              " ('herp', 'acne'),\n",
              " ('herp', 'acne'),\n",
              " ('herp', 'acne'),\n",
              " ('acne', 'acne'),\n",
              " ('acne', 'lich'),\n",
              " ('acne', 'lich')]"
            ]
          },
          "metadata": {},
          "execution_count": 48
        }
      ]
    },
    {
      "cell_type": "code",
      "metadata": {
        "id": "aNEFzvV8Nfku"
      },
      "source": [
        "correct = 0\n",
        "for i in range(len(ground_list)):\n",
        "  if ground_list[i] == predicted_list[i]:\n",
        "    correct +=1"
      ],
      "execution_count": 49,
      "outputs": []
    },
    {
      "cell_type": "code",
      "metadata": {
        "id": "SXMatanFNfhy",
        "colab": {
          "base_uri": "https://localhost:8080/"
        },
        "outputId": "1c5f79f2-c02c-496a-d88b-e8de4c861794"
      },
      "source": [
        "percent_correct = correct / len(ground_list)\n",
        "print('Percent of correct predictions on test set:', round(percent_correct *100), '%')"
      ],
      "execution_count": 50,
      "outputs": [
        {
          "output_type": "stream",
          "name": "stdout",
          "text": [
            "Percent of correct predictions on test set: 33 %\n"
          ]
        }
      ]
    },
    {
      "cell_type": "markdown",
      "metadata": {
        "id": "mRAqXvOCOk9d"
      },
      "source": [
        "Save the Model"
      ]
    },
    {
      "cell_type": "code",
      "metadata": {
        "id": "OH7iwawmfFXu"
      },
      "source": [
        "# create 'export.pkl' file in ace-it folder\n",
        "learn.export()"
      ],
      "execution_count": 54,
      "outputs": []
    },
    {
      "cell_type": "code",
      "metadata": {
        "colab": {
          "base_uri": "https://localhost:8080/"
        },
        "id": "qF1mvvn3CuQ8",
        "outputId": "b967c3f5-9b96-4fb3-a51c-8a27a8d80097"
      },
      "source": [
        "path = Path()\n",
        "path.ls(file_exts= '.pkl')"
      ],
      "execution_count": 53,
      "outputs": [
        {
          "output_type": "execute_result",
          "data": {
            "text/plain": [
              "(#1) [Path('_.pkl')]"
            ]
          },
          "metadata": {},
          "execution_count": 53
        }
      ]
    },
    {
      "cell_type": "markdown",
      "metadata": {
        "id": "3jJHxaR3OxWn"
      },
      "source": [
        "(Loading the Model shown in Inference Notebook)"
      ]
    }
  ]
}