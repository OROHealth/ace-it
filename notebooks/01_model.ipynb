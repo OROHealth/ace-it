{
  "nbformat": 4,
  "nbformat_minor": 0,
  "metadata": {
    "colab": {
      "name": "01_model.ipynb",
      "provenance": [],
      "collapsed_sections": [],
      "authorship_tag": "ABX9TyMJFDbEpgKNiZlh8Km5TeTQ",
      "include_colab_link": true
    },
    "kernelspec": {
      "name": "python3",
      "display_name": "Python 3"
    },
    "language_info": {
      "name": "python"
    },
    "accelerator": "GPU"
  },
  "cells": [
    {
      "cell_type": "markdown",
      "metadata": {
        "id": "view-in-github",
        "colab_type": "text"
      },
      "source": [
        "<a href=\"https://colab.research.google.com/github/yrodriguezmd/ace-it/blob/nov25/notebooks/01_model.ipynb\" target=\"_parent\"><img src=\"https://colab.research.google.com/assets/colab-badge.svg\" alt=\"Open In Colab\"/></a>"
      ]
    },
    {
      "cell_type": "markdown",
      "metadata": {
        "id": "9697FYX-HRJZ"
      },
      "source": [
        "### Generate a work flow for preprocessing and modelling image data for 3 classes of skin disorders\n",
        "\n",
        "(Acne n= 40, Herpes simplex n= 16, Lichen planus n= 56)\n",
        "\n",
        "*small dataset, mildly imbalanced*"
      ]
    },
    {
      "cell_type": "markdown",
      "metadata": {
        "id": "WOD08C7GHNtV"
      },
      "source": [
        "Installations and Imports"
      ]
    },
    {
      "cell_type": "code",
      "metadata": {
        "id": "JVWcF8gJNV3n"
      },
      "source": [
        "!pip install -q --upgrade fastai"
      ],
      "execution_count": null,
      "outputs": []
    },
    {
      "cell_type": "code",
      "metadata": {
        "id": "sAEF3aJ6fDo6"
      },
      "source": [
        "import fastai\n",
        "from fastai.vision.all import *"
      ],
      "execution_count": 2,
      "outputs": []
    },
    {
      "cell_type": "markdown",
      "metadata": {
        "id": "dM-IQ78mH9nI"
      },
      "source": [
        "Access data"
      ]
    },
    {
      "cell_type": "code",
      "metadata": {
        "id": "VzmEemiZsh0K"
      },
      "source": [
        "!git clone https://github.com/yrodriguezmd/ace-it.git"
      ],
      "execution_count": null,
      "outputs": []
    },
    {
      "cell_type": "code",
      "metadata": {
        "colab": {
          "base_uri": "https://localhost:8080/"
        },
        "id": "rYrWuaEPsq_O",
        "outputId": "2d85d581-46f3-4471-b4a0-99bd2dc6c301"
      },
      "source": [
        "!ls ace-it "
      ],
      "execution_count": null,
      "outputs": [
        {
          "output_type": "stream",
          "name": "stdout",
          "text": [
            "data_3class_skin_diseases.zip  Readme.md  Tech-Challenge.pdf  test\n"
          ]
        }
      ]
    },
    {
      "cell_type": "code",
      "metadata": {
        "colab": {
          "base_uri": "https://localhost:8080/"
        },
        "id": "1mI8w-vltmwl",
        "outputId": "4639b9d3-e110-4bf1-b6b0-738799c57079"
      },
      "source": [
        "%cd ace-it"
      ],
      "execution_count": 4,
      "outputs": [
        {
          "output_type": "stream",
          "name": "stdout",
          "text": [
            "/content/ace-it\n"
          ]
        }
      ]
    },
    {
      "cell_type": "code",
      "metadata": {
        "colab": {
          "base_uri": "https://localhost:8080/"
        },
        "id": "tbI7XGz8to0l",
        "outputId": "0fe3f798-83cc-4d8a-ec36-6748bbd6a51b"
      },
      "source": [
        "!ls"
      ],
      "execution_count": null,
      "outputs": [
        {
          "output_type": "stream",
          "name": "stdout",
          "text": [
            "data_3class_skin_diseases.zip  Readme.md  Tech-Challenge.pdf  test\n"
          ]
        }
      ]
    },
    {
      "cell_type": "code",
      "metadata": {
        "id": "cLtUIvtgsuvP"
      },
      "source": [
        "!unzip \\*zip && rm*.zip"
      ],
      "execution_count": null,
      "outputs": []
    },
    {
      "cell_type": "code",
      "metadata": {
        "colab": {
          "base_uri": "https://localhost:8080/"
        },
        "id": "d3y2No8PtjMT",
        "outputId": "52c220bb-f170-40f3-9111-acda7c21c33c"
      },
      "source": [
        "!ls data_3class_skin_diseases"
      ],
      "execution_count": null,
      "outputs": [
        {
          "output_type": "stream",
          "name": "stdout",
          "text": [
            "acne  herpes_simplex  lichen_planus\n"
          ]
        }
      ]
    },
    {
      "cell_type": "code",
      "metadata": {
        "id": "vuVrtDwDub_w"
      },
      "source": [
        "path = Path('/content/ace-it/data_3class_skin_diseases')"
      ],
      "execution_count": 6,
      "outputs": []
    },
    {
      "cell_type": "code",
      "metadata": {
        "colab": {
          "base_uri": "https://localhost:8080/"
        },
        "id": "Cgn-2LOOkmN9",
        "outputId": "6f33333a-4962-4465-fda3-53425deb8587"
      },
      "source": [
        "path.ls()"
      ],
      "execution_count": null,
      "outputs": [
        {
          "output_type": "execute_result",
          "data": {
            "text/plain": [
              "(#3) [Path('/content/ace-it/data_3class_skin_diseases/acne'),Path('/content/ace-it/data_3class_skin_diseases/herpes_simplex'),Path('/content/ace-it/data_3class_skin_diseases/lichen_planus')]"
            ]
          },
          "metadata": {},
          "execution_count": 18
        }
      ]
    },
    {
      "cell_type": "code",
      "metadata": {
        "id": "7j3cxPDCuoip",
        "colab": {
          "base_uri": "https://localhost:8080/"
        },
        "outputId": "8ac47a46-7b93-44c6-8408-e134447af373"
      },
      "source": [
        "!ls data_3class_skin_diseases/acne"
      ],
      "execution_count": null,
      "outputs": [
        {
          "output_type": "stream",
          "name": "stdout",
          "text": [
            "4-100.jpg     4-102-4.jpg  4-103.jpg\t 4-105-4.jpg  4-107.jpg    4-116-1.jpg\n",
            "4-101-2.jpg   4-102-5.jpg  4-104_S.jpg\t 4-105-5.jpg  4-108.jpg    4-116-2.jpg\n",
            "4-101_S.jpg   4-102-6.jpg  4-105-10.jpg  4-105-6.jpg  4-110.jpg    4-98-1.jpg\n",
            "4-102-11.jpg  4-102-7.jpg  4-105-11.jpg  4-105-7.jpg  4-111.jpg    4-98.jpg\n",
            "4-102-12.jpg  4-102-8.jpg  4-105-1.jpg\t 4-105-9.jpg  4-114.jpg    4-99.jpg\n",
            "4-102-1.jpg   4-102-9.jpg  4-105-2.jpg\t 4-105.jpg    4-115-1.jpg\n",
            "4-102-3.jpg   4-102.jpg    4-105-3.jpg\t 4-106.jpg    4-115.jpg\n"
          ]
        }
      ]
    },
    {
      "cell_type": "markdown",
      "metadata": {
        "id": "YACsa_RPIEv3"
      },
      "source": [
        "Sample tensor and visual check"
      ]
    },
    {
      "cell_type": "code",
      "metadata": {
        "id": "B-CVJERofMDK"
      },
      "source": [
        "from PIL import Image, ImageOps\n",
        "samp = Image.open('/content/ace-it/data_3class_skin_diseases/acne/4-100.jpg')##\n",
        "#show_image(samp);"
      ],
      "execution_count": null,
      "outputs": []
    },
    {
      "cell_type": "code",
      "metadata": {
        "colab": {
          "base_uri": "https://localhost:8080/"
        },
        "id": "-umvu7TZgesO",
        "outputId": "fd7205a6-5a48-47a3-9dc0-232cf1a6596c"
      },
      "source": [
        "samp_t = tensor(samp)\n",
        "samp_t.shape"
      ],
      "execution_count": null,
      "outputs": [
        {
          "output_type": "execute_result",
          "data": {
            "text/plain": [
              "torch.Size([298, 420, 3])"
            ]
          },
          "metadata": {},
          "execution_count": 11
        }
      ]
    },
    {
      "cell_type": "markdown",
      "metadata": {
        "id": "blGB92LBsn7G"
      },
      "source": [
        "Verify images: remove items that cannot be opened"
      ]
    },
    {
      "cell_type": "code",
      "metadata": {
        "colab": {
          "base_uri": "https://localhost:8080/"
        },
        "id": "_quUKERot7wv",
        "outputId": "da38c538-1c38-4b03-bfdd-35139c3280c1"
      },
      "source": [
        "path = Path('/content/ace-it/data_3class_skin_diseases/')\n",
        "sets = ['acne','herpes_simplex','lichen_planus']\n",
        "for s in sets:\n",
        "  sub_path = path/s\n",
        "  no_open = verify_images(sub_path.ls())\n",
        "  print(no_open)\n",
        "  no_open.map(Path.unlink)  # remove image that can't be opened \n"
      ],
      "execution_count": 7,
      "outputs": [
        {
          "output_type": "stream",
          "name": "stdout",
          "text": [
            "[]\n",
            "[]\n",
            "[Path('/content/ace-it/data_3class_skin_diseases/lichen_planus/3-124-2.jpg')]\n"
          ]
        }
      ]
    },
    {
      "cell_type": "code",
      "metadata": {
        "id": "7d21Bf5nt1Tq"
      },
      "source": [
        "!ls data_3class_skin_diseases/lichen_planus\n",
        "# 3-124-2.jpg removed"
      ],
      "execution_count": null,
      "outputs": []
    },
    {
      "cell_type": "markdown",
      "metadata": {
        "id": "M5jDrc8kIr_l"
      },
      "source": [
        "Create DataBlock and DataLoader"
      ]
    },
    {
      "cell_type": "code",
      "metadata": {
        "id": "P22kq6ykcOTz",
        "colab": {
          "base_uri": "https://localhost:8080/"
        },
        "outputId": "4bf981dc-7313-406e-a531-e2014a43149e"
      },
      "source": [
        "path = Path('/content/ace-it/data_3class_skin_diseases')\n",
        "\n",
        "dblock = DataBlock(\n",
        "    blocks = (ImageBlock(), CategoryBlock()),\n",
        "    get_items = get_image_files,\n",
        "    splitter = RandomSplitter(seed=42, valid_pct=0.2),\n",
        "    get_y= parent_label,\n",
        "    item_tfms = Resize(460),#\n",
        "    batch_tfms = [(*aug_transforms (size=200, max_rotate=20, max_zoom=1.2)),\n",
        "                  Normalize.from_stats(*imagenet_stats)],\n",
        ")\n",
        "\n",
        "dls = dblock.dataloaders(path, bs = 64)"
      ],
      "execution_count": 8,
      "outputs": [
        {
          "output_type": "stream",
          "name": "stderr",
          "text": [
            "/usr/local/lib/python3.7/dist-packages/torch/_tensor.py:1051: UserWarning: torch.solve is deprecated in favor of torch.linalg.solveand will be removed in a future PyTorch release.\n",
            "torch.linalg.solve has its arguments reversed and does not return the LU factorization.\n",
            "To get the LU factorization see torch.lu, which can be used with torch.lu_solve or torch.lu_unpack.\n",
            "X = torch.solve(B, A).solution\n",
            "should be replaced with\n",
            "X = torch.linalg.solve(A, B) (Triggered internally at  ../aten/src/ATen/native/BatchLinearAlgebra.cpp:766.)\n",
            "  ret = func(*args, **kwargs)\n"
          ]
        }
      ]
    },
    {
      "cell_type": "markdown",
      "metadata": {
        "id": "fzI_7CRZI5Uu"
      },
      "source": [
        "Visual check"
      ]
    },
    {
      "cell_type": "code",
      "metadata": {
        "id": "RroDo4InniHZ"
      },
      "source": [
        "dls.train.show_batch()"
      ],
      "execution_count": null,
      "outputs": []
    },
    {
      "cell_type": "code",
      "metadata": {
        "id": "hTViCNhb3DmC"
      },
      "source": [
        "dblock.summary(path)"
      ],
      "execution_count": null,
      "outputs": []
    },
    {
      "cell_type": "markdown",
      "metadata": {
        "id": "eBWn6ch9JCvi"
      },
      "source": [
        "Simple CNN architecture"
      ]
    },
    {
      "cell_type": "code",
      "metadata": {
        "id": "Nl1QCntBdLw_"
      },
      "source": [
        "# input 200x200x3\n",
        "cnn = sequential(\n",
        "    (nn.Conv2d(in_channels = 3, out_channels = 8, # \n",
        "              kernel_size = 5,\n",
        "              stride=2,\n",
        "               padding = 5//2)),# 100\n",
        "    (nn.ReLU()),\n",
        "    (nn.BatchNorm2d(8)), \n",
        "\n",
        "    (nn.Conv2d(in_channels = 8, out_channels = 16,\n",
        "          kernel_size = 5,\n",
        "          stride=2,\n",
        "          padding =5//2)), # 50\n",
        "    (nn.ReLU()), \n",
        "    (nn.BatchNorm2d(16)), \n",
        "    \n",
        "    (nn.Conv2d(in_channels = 16, out_channels = 32,\n",
        "          kernel_size = 5,\n",
        "          stride=2,\n",
        "          padding=5//2)), # 25\n",
        "    (nn.ReLU()),\n",
        "    (nn.BatchNorm2d(32)), \n",
        "\n",
        "    (nn.Conv2d(in_channels = 32, out_channels = 64,\n",
        "          kernel_size = 5,\n",
        "          stride=2,\n",
        "          padding=5//2)), # 13\n",
        "    (nn.ReLU()),\n",
        "    (nn.BatchNorm2d(64)), \n",
        "\n",
        "    (nn.Conv2d(in_channels = 64, out_channels = 128,\n",
        "          kernel_size = 5,\n",
        "          stride=2,\n",
        "          padding=5//2)), # 7\n",
        "    (nn.ReLU()),\n",
        "    (nn.BatchNorm2d(128)), \n",
        "\n",
        "    (nn.Conv2d(in_channels = 128, out_channels = 256,\n",
        "          kernel_size = 3,\n",
        "          stride=2,\n",
        "          padding=3//2)), # 4\n",
        "    (nn.ReLU()),\n",
        "    (nn.BatchNorm2d(256)), \n",
        "\n",
        "    (nn.Conv2d(in_channels = 256, out_channels = 512,\n",
        "          kernel_size = 3,\n",
        "          stride=2,\n",
        "          padding=3//2)), # 2\n",
        "    (nn.ReLU()),\n",
        "    (nn.BatchNorm2d(512)), \n",
        "\n",
        "    (nn.Conv2d(in_channels = 512, out_channels = 3,##\n",
        "          kernel_size = 3,\n",
        "          stride=2,\n",
        "          padding =3//2)), # 1\n",
        "          \n",
        "    (Flatten())\n",
        ")"
      ],
      "execution_count": 9,
      "outputs": []
    },
    {
      "cell_type": "markdown",
      "metadata": {
        "id": "Lmq8yHOjJONI"
      },
      "source": [
        "Software for logging and callbacks (optional)"
      ]
    },
    {
      "cell_type": "code",
      "metadata": {
        "id": "SQmB47OGV5YJ"
      },
      "source": [
        "!pip install -qqq wandb\n",
        "\n",
        "import wandb\n",
        "from fastai.callback.wandb import *\n",
        "from fastai.callback.tracker import SaveModelCallback"
      ],
      "execution_count": null,
      "outputs": []
    },
    {
      "cell_type": "code",
      "metadata": {
        "id": "8DUpnMB1XUG0"
      },
      "source": [
        "wandb.login()"
      ],
      "execution_count": null,
      "outputs": []
    },
    {
      "cell_type": "code",
      "metadata": {
        "id": "nL4lr-LOXvuC"
      },
      "source": [
        "wandb.init(project = 'Derm',name='simplecnn_nov25')"
      ],
      "execution_count": null,
      "outputs": []
    },
    {
      "cell_type": "markdown",
      "metadata": {
        "id": "WmqkYwLyJYaM"
      },
      "source": [
        "Modelling"
      ]
    },
    {
      "cell_type": "code",
      "metadata": {
        "id": "5wrFL1WJdeGx"
      },
      "source": [
        "learn = Learner(dls, cnn, \n",
        "                #loss_func = F.cross_entropy,\n",
        "                metrics = accuracy,\n",
        "                cbs = [WandbCallback(), SaveModelCallback()])"
      ],
      "execution_count": 14,
      "outputs": []
    },
    {
      "cell_type": "code",
      "metadata": {
        "id": "BszXw70zdo-z",
        "colab": {
          "base_uri": "https://localhost:8080/",
          "height": 283
        },
        "outputId": "908269ab-dc19-4a3f-9b19-3cd7c0b1cd3d"
      },
      "source": [
        "lr_valley = learn.lr_find()"
      ],
      "execution_count": 15,
      "outputs": [
        {
          "output_type": "display_data",
          "data": {
            "text/html": [
              ""
            ],
            "text/plain": [
              "<IPython.core.display.HTML object>"
            ]
          },
          "metadata": {}
        },
        {
          "output_type": "display_data",
          "data": {
            "image/png": "[encoded data removed]",
            "text/plain": [
              "<Figure size 432x288 with 1 Axes>"
            ]
          },
          "metadata": {
            "needs_background": "light"
          }
        }
      ]
    },
    {
      "cell_type": "code",
      "metadata": {
        "colab": {
          "base_uri": "https://localhost:8080/",
          "height": 1000
        },
        "id": "0NoZGHMBdLKN",
        "outputId": "69da4d01-2e7e-4905-e578-6a54ddd7ca17"
      },
      "source": [
        "learn.fit_one_cycle(n_epoch = 100, lr_max= lr_valley[0]) "
      ],
      "execution_count": 16,
      "outputs": [
        {
          "output_type": "display_data",
          "data": {
            "text/html": [
              "<table border=\"1\" class=\"dataframe\">\n",
              "  <thead>\n",
              "    <tr style=\"text-align: left;\">\n",
              "      <th>epoch</th>\n",
              "      <th>train_loss</th>\n",
              "      <th>valid_loss</th>\n",
              "      <th>accuracy</th>\n",
              "      <th>time</th>\n",
              "    </tr>\n",
              "  </thead>\n",
              "  <tbody>\n",
              "    <tr>\n",
              "      <td>0</td>\n",
              "      <td>1.190047</td>\n",
              "      <td>1.097928</td>\n",
              "      <td>0.545455</td>\n",
              "      <td>00:02</td>\n",
              "    </tr>\n",
              "    <tr>\n",
              "      <td>1</td>\n",
              "      <td>1.164309</td>\n",
              "      <td>1.095065</td>\n",
              "      <td>0.590909</td>\n",
              "      <td>00:03</td>\n",
              "    </tr>\n",
              "    <tr>\n",
              "      <td>2</td>\n",
              "      <td>1.148429</td>\n",
              "      <td>1.092039</td>\n",
              "      <td>0.590909</td>\n",
              "      <td>00:03</td>\n",
              "    </tr>\n",
              "    <tr>\n",
              "      <td>3</td>\n",
              "      <td>1.138618</td>\n",
              "      <td>1.089298</td>\n",
              "      <td>0.590909</td>\n",
              "      <td>00:03</td>\n",
              "    </tr>\n",
              "    <tr>\n",
              "      <td>4</td>\n",
              "      <td>1.136324</td>\n",
              "      <td>1.086805</td>\n",
              "      <td>0.590909</td>\n",
              "      <td>00:03</td>\n",
              "    </tr>\n",
              "    <tr>\n",
              "      <td>5</td>\n",
              "      <td>1.121017</td>\n",
              "      <td>1.084348</td>\n",
              "      <td>0.590909</td>\n",
              "      <td>00:03</td>\n",
              "    </tr>\n",
              "    <tr>\n",
              "      <td>6</td>\n",
              "      <td>1.126902</td>\n",
              "      <td>1.082809</td>\n",
              "      <td>0.590909</td>\n",
              "      <td>00:03</td>\n",
              "    </tr>\n",
              "    <tr>\n",
              "      <td>7</td>\n",
              "      <td>1.129295</td>\n",
              "      <td>1.081748</td>\n",
              "      <td>0.590909</td>\n",
              "      <td>00:03</td>\n",
              "    </tr>\n",
              "    <tr>\n",
              "      <td>8</td>\n",
              "      <td>1.125360</td>\n",
              "      <td>1.081392</td>\n",
              "      <td>0.590909</td>\n",
              "      <td>00:03</td>\n",
              "    </tr>\n",
              "    <tr>\n",
              "      <td>9</td>\n",
              "      <td>1.116919</td>\n",
              "      <td>1.081572</td>\n",
              "      <td>0.590909</td>\n",
              "      <td>00:03</td>\n",
              "    </tr>\n",
              "    <tr>\n",
              "      <td>10</td>\n",
              "      <td>1.109695</td>\n",
              "      <td>1.081889</td>\n",
              "      <td>0.590909</td>\n",
              "      <td>00:03</td>\n",
              "    </tr>\n",
              "    <tr>\n",
              "      <td>11</td>\n",
              "      <td>1.104344</td>\n",
              "      <td>1.083749</td>\n",
              "      <td>0.590909</td>\n",
              "      <td>00:03</td>\n",
              "    </tr>\n",
              "    <tr>\n",
              "      <td>12</td>\n",
              "      <td>1.096963</td>\n",
              "      <td>1.084064</td>\n",
              "      <td>0.590909</td>\n",
              "      <td>00:03</td>\n",
              "    </tr>\n",
              "    <tr>\n",
              "      <td>13</td>\n",
              "      <td>1.089045</td>\n",
              "      <td>1.085372</td>\n",
              "      <td>0.272727</td>\n",
              "      <td>00:03</td>\n",
              "    </tr>\n",
              "    <tr>\n",
              "      <td>14</td>\n",
              "      <td>1.082167</td>\n",
              "      <td>1.086426</td>\n",
              "      <td>0.272727</td>\n",
              "      <td>00:03</td>\n",
              "    </tr>\n",
              "    <tr>\n",
              "      <td>15</td>\n",
              "      <td>1.065234</td>\n",
              "      <td>1.085929</td>\n",
              "      <td>0.272727</td>\n",
              "      <td>00:03</td>\n",
              "    </tr>\n",
              "    <tr>\n",
              "      <td>16</td>\n",
              "      <td>1.055514</td>\n",
              "      <td>1.083471</td>\n",
              "      <td>0.272727</td>\n",
              "      <td>00:03</td>\n",
              "    </tr>\n",
              "    <tr>\n",
              "      <td>17</td>\n",
              "      <td>1.046629</td>\n",
              "      <td>1.079950</td>\n",
              "      <td>0.272727</td>\n",
              "      <td>00:03</td>\n",
              "    </tr>\n",
              "    <tr>\n",
              "      <td>18</td>\n",
              "      <td>1.034181</td>\n",
              "      <td>1.073979</td>\n",
              "      <td>0.272727</td>\n",
              "      <td>00:03</td>\n",
              "    </tr>\n",
              "    <tr>\n",
              "      <td>19</td>\n",
              "      <td>1.021129</td>\n",
              "      <td>1.064651</td>\n",
              "      <td>0.272727</td>\n",
              "      <td>00:03</td>\n",
              "    </tr>\n",
              "    <tr>\n",
              "      <td>20</td>\n",
              "      <td>1.011400</td>\n",
              "      <td>1.053631</td>\n",
              "      <td>0.272727</td>\n",
              "      <td>00:03</td>\n",
              "    </tr>\n",
              "    <tr>\n",
              "      <td>21</td>\n",
              "      <td>0.999737</td>\n",
              "      <td>1.037527</td>\n",
              "      <td>0.272727</td>\n",
              "      <td>00:03</td>\n",
              "    </tr>\n",
              "    <tr>\n",
              "      <td>22</td>\n",
              "      <td>0.989655</td>\n",
              "      <td>1.023849</td>\n",
              "      <td>0.272727</td>\n",
              "      <td>00:03</td>\n",
              "    </tr>\n",
              "    <tr>\n",
              "      <td>23</td>\n",
              "      <td>0.982409</td>\n",
              "      <td>1.013128</td>\n",
              "      <td>0.272727</td>\n",
              "      <td>00:03</td>\n",
              "    </tr>\n",
              "    <tr>\n",
              "      <td>24</td>\n",
              "      <td>0.975586</td>\n",
              "      <td>1.007136</td>\n",
              "      <td>0.272727</td>\n",
              "      <td>00:03</td>\n",
              "    </tr>\n",
              "    <tr>\n",
              "      <td>25</td>\n",
              "      <td>0.963139</td>\n",
              "      <td>1.002429</td>\n",
              "      <td>0.363636</td>\n",
              "      <td>00:03</td>\n",
              "    </tr>\n",
              "    <tr>\n",
              "      <td>26</td>\n",
              "      <td>0.952423</td>\n",
              "      <td>1.002336</td>\n",
              "      <td>0.363636</td>\n",
              "      <td>00:03</td>\n",
              "    </tr>\n",
              "    <tr>\n",
              "      <td>27</td>\n",
              "      <td>0.945260</td>\n",
              "      <td>1.004270</td>\n",
              "      <td>0.363636</td>\n",
              "      <td>00:03</td>\n",
              "    </tr>\n",
              "    <tr>\n",
              "      <td>28</td>\n",
              "      <td>0.933857</td>\n",
              "      <td>1.009937</td>\n",
              "      <td>0.363636</td>\n",
              "      <td>00:03</td>\n",
              "    </tr>\n",
              "    <tr>\n",
              "      <td>29</td>\n",
              "      <td>0.929219</td>\n",
              "      <td>1.018548</td>\n",
              "      <td>0.363636</td>\n",
              "      <td>00:03</td>\n",
              "    </tr>\n",
              "    <tr>\n",
              "      <td>30</td>\n",
              "      <td>0.918371</td>\n",
              "      <td>1.018365</td>\n",
              "      <td>0.363636</td>\n",
              "      <td>00:03</td>\n",
              "    </tr>\n",
              "    <tr>\n",
              "      <td>31</td>\n",
              "      <td>0.906377</td>\n",
              "      <td>1.010663</td>\n",
              "      <td>0.409091</td>\n",
              "      <td>00:03</td>\n",
              "    </tr>\n",
              "    <tr>\n",
              "      <td>32</td>\n",
              "      <td>0.898506</td>\n",
              "      <td>0.999278</td>\n",
              "      <td>0.454545</td>\n",
              "      <td>00:03</td>\n",
              "    </tr>\n",
              "    <tr>\n",
              "      <td>33</td>\n",
              "      <td>0.890872</td>\n",
              "      <td>0.982178</td>\n",
              "      <td>0.454545</td>\n",
              "      <td>00:03</td>\n",
              "    </tr>\n",
              "    <tr>\n",
              "      <td>34</td>\n",
              "      <td>0.881585</td>\n",
              "      <td>0.943272</td>\n",
              "      <td>0.454545</td>\n",
              "      <td>00:03</td>\n",
              "    </tr>\n",
              "    <tr>\n",
              "      <td>35</td>\n",
              "      <td>0.871334</td>\n",
              "      <td>0.905020</td>\n",
              "      <td>0.454545</td>\n",
              "      <td>00:03</td>\n",
              "    </tr>\n",
              "    <tr>\n",
              "      <td>36</td>\n",
              "      <td>0.862244</td>\n",
              "      <td>0.881332</td>\n",
              "      <td>0.545455</td>\n",
              "      <td>00:03</td>\n",
              "    </tr>\n",
              "    <tr>\n",
              "      <td>37</td>\n",
              "      <td>0.852632</td>\n",
              "      <td>0.856365</td>\n",
              "      <td>0.590909</td>\n",
              "      <td>00:03</td>\n",
              "    </tr>\n",
              "    <tr>\n",
              "      <td>38</td>\n",
              "      <td>0.844950</td>\n",
              "      <td>0.844821</td>\n",
              "      <td>0.545455</td>\n",
              "      <td>00:03</td>\n",
              "    </tr>\n",
              "    <tr>\n",
              "      <td>39</td>\n",
              "      <td>0.837468</td>\n",
              "      <td>0.845586</td>\n",
              "      <td>0.545455</td>\n",
              "      <td>00:03</td>\n",
              "    </tr>\n",
              "    <tr>\n",
              "      <td>40</td>\n",
              "      <td>0.827385</td>\n",
              "      <td>0.840539</td>\n",
              "      <td>0.545455</td>\n",
              "      <td>00:03</td>\n",
              "    </tr>\n",
              "    <tr>\n",
              "      <td>41</td>\n",
              "      <td>0.817902</td>\n",
              "      <td>0.852056</td>\n",
              "      <td>0.545455</td>\n",
              "      <td>00:03</td>\n",
              "    </tr>\n",
              "    <tr>\n",
              "      <td>42</td>\n",
              "      <td>0.810412</td>\n",
              "      <td>0.874995</td>\n",
              "      <td>0.545455</td>\n",
              "      <td>00:03</td>\n",
              "    </tr>\n",
              "    <tr>\n",
              "      <td>43</td>\n",
              "      <td>0.799984</td>\n",
              "      <td>0.893380</td>\n",
              "      <td>0.545455</td>\n",
              "      <td>00:03</td>\n",
              "    </tr>\n",
              "    <tr>\n",
              "      <td>44</td>\n",
              "      <td>0.792488</td>\n",
              "      <td>0.922274</td>\n",
              "      <td>0.545455</td>\n",
              "      <td>00:03</td>\n",
              "    </tr>\n",
              "    <tr>\n",
              "      <td>45</td>\n",
              "      <td>0.781362</td>\n",
              "      <td>0.955429</td>\n",
              "      <td>0.545455</td>\n",
              "      <td>00:03</td>\n",
              "    </tr>\n",
              "    <tr>\n",
              "      <td>46</td>\n",
              "      <td>0.777087</td>\n",
              "      <td>0.985623</td>\n",
              "      <td>0.545455</td>\n",
              "      <td>00:03</td>\n",
              "    </tr>\n",
              "    <tr>\n",
              "      <td>47</td>\n",
              "      <td>0.768554</td>\n",
              "      <td>1.001872</td>\n",
              "      <td>0.500000</td>\n",
              "      <td>00:03</td>\n",
              "    </tr>\n",
              "    <tr>\n",
              "      <td>48</td>\n",
              "      <td>0.760358</td>\n",
              "      <td>1.008633</td>\n",
              "      <td>0.500000</td>\n",
              "      <td>00:03</td>\n",
              "    </tr>\n",
              "    <tr>\n",
              "      <td>49</td>\n",
              "      <td>0.753086</td>\n",
              "      <td>1.003394</td>\n",
              "      <td>0.500000</td>\n",
              "      <td>00:03</td>\n",
              "    </tr>\n",
              "    <tr>\n",
              "      <td>50</td>\n",
              "      <td>0.745239</td>\n",
              "      <td>0.983478</td>\n",
              "      <td>0.500000</td>\n",
              "      <td>00:03</td>\n",
              "    </tr>\n",
              "    <tr>\n",
              "      <td>51</td>\n",
              "      <td>0.739395</td>\n",
              "      <td>0.952359</td>\n",
              "      <td>0.545455</td>\n",
              "      <td>00:03</td>\n",
              "    </tr>\n",
              "    <tr>\n",
              "      <td>52</td>\n",
              "      <td>0.730666</td>\n",
              "      <td>0.921852</td>\n",
              "      <td>0.545455</td>\n",
              "      <td>00:03</td>\n",
              "    </tr>\n",
              "    <tr>\n",
              "      <td>53</td>\n",
              "      <td>0.722401</td>\n",
              "      <td>0.884018</td>\n",
              "      <td>0.545455</td>\n",
              "      <td>00:03</td>\n",
              "    </tr>\n",
              "    <tr>\n",
              "      <td>54</td>\n",
              "      <td>0.713654</td>\n",
              "      <td>0.851678</td>\n",
              "      <td>0.681818</td>\n",
              "      <td>00:03</td>\n",
              "    </tr>\n",
              "    <tr>\n",
              "      <td>55</td>\n",
              "      <td>0.706088</td>\n",
              "      <td>0.831410</td>\n",
              "      <td>0.636364</td>\n",
              "      <td>00:03</td>\n",
              "    </tr>\n",
              "    <tr>\n",
              "      <td>56</td>\n",
              "      <td>0.701220</td>\n",
              "      <td>0.817631</td>\n",
              "      <td>0.681818</td>\n",
              "      <td>00:03</td>\n",
              "    </tr>\n",
              "    <tr>\n",
              "      <td>57</td>\n",
              "      <td>0.692344</td>\n",
              "      <td>0.804085</td>\n",
              "      <td>0.727273</td>\n",
              "      <td>00:03</td>\n",
              "    </tr>\n",
              "    <tr>\n",
              "      <td>58</td>\n",
              "      <td>0.685745</td>\n",
              "      <td>0.801914</td>\n",
              "      <td>0.681818</td>\n",
              "      <td>00:03</td>\n",
              "    </tr>\n",
              "    <tr>\n",
              "      <td>59</td>\n",
              "      <td>0.678951</td>\n",
              "      <td>0.810267</td>\n",
              "      <td>0.636364</td>\n",
              "      <td>00:03</td>\n",
              "    </tr>\n",
              "    <tr>\n",
              "      <td>60</td>\n",
              "      <td>0.673550</td>\n",
              "      <td>0.842549</td>\n",
              "      <td>0.590909</td>\n",
              "      <td>00:03</td>\n",
              "    </tr>\n",
              "    <tr>\n",
              "      <td>61</td>\n",
              "      <td>0.667883</td>\n",
              "      <td>0.869240</td>\n",
              "      <td>0.590909</td>\n",
              "      <td>00:03</td>\n",
              "    </tr>\n",
              "    <tr>\n",
              "      <td>62</td>\n",
              "      <td>0.661174</td>\n",
              "      <td>0.903435</td>\n",
              "      <td>0.590909</td>\n",
              "      <td>00:03</td>\n",
              "    </tr>\n",
              "    <tr>\n",
              "      <td>63</td>\n",
              "      <td>0.657232</td>\n",
              "      <td>0.925434</td>\n",
              "      <td>0.590909</td>\n",
              "      <td>00:03</td>\n",
              "    </tr>\n",
              "    <tr>\n",
              "      <td>64</td>\n",
              "      <td>0.653721</td>\n",
              "      <td>0.945481</td>\n",
              "      <td>0.590909</td>\n",
              "      <td>00:03</td>\n",
              "    </tr>\n",
              "    <tr>\n",
              "      <td>65</td>\n",
              "      <td>0.650231</td>\n",
              "      <td>0.950429</td>\n",
              "      <td>0.590909</td>\n",
              "      <td>00:03</td>\n",
              "    </tr>\n",
              "    <tr>\n",
              "      <td>66</td>\n",
              "      <td>0.646077</td>\n",
              "      <td>0.953964</td>\n",
              "      <td>0.590909</td>\n",
              "      <td>00:03</td>\n",
              "    </tr>\n",
              "    <tr>\n",
              "      <td>67</td>\n",
              "      <td>0.641175</td>\n",
              "      <td>0.948840</td>\n",
              "      <td>0.590909</td>\n",
              "      <td>00:03</td>\n",
              "    </tr>\n",
              "    <tr>\n",
              "      <td>68</td>\n",
              "      <td>0.635965</td>\n",
              "      <td>0.934338</td>\n",
              "      <td>0.590909</td>\n",
              "      <td>00:03</td>\n",
              "    </tr>\n",
              "    <tr>\n",
              "      <td>69</td>\n",
              "      <td>0.629547</td>\n",
              "      <td>0.921711</td>\n",
              "      <td>0.590909</td>\n",
              "      <td>00:03</td>\n",
              "    </tr>\n",
              "    <tr>\n",
              "      <td>70</td>\n",
              "      <td>0.623129</td>\n",
              "      <td>0.912723</td>\n",
              "      <td>0.590909</td>\n",
              "      <td>00:03</td>\n",
              "    </tr>\n",
              "    <tr>\n",
              "      <td>71</td>\n",
              "      <td>0.617355</td>\n",
              "      <td>0.907398</td>\n",
              "      <td>0.590909</td>\n",
              "      <td>00:03</td>\n",
              "    </tr>\n",
              "    <tr>\n",
              "      <td>72</td>\n",
              "      <td>0.610440</td>\n",
              "      <td>0.908590</td>\n",
              "      <td>0.545455</td>\n",
              "      <td>00:03</td>\n",
              "    </tr>\n",
              "    <tr>\n",
              "      <td>73</td>\n",
              "      <td>0.607522</td>\n",
              "      <td>0.897471</td>\n",
              "      <td>0.545455</td>\n",
              "      <td>00:03</td>\n",
              "    </tr>\n",
              "    <tr>\n",
              "      <td>74</td>\n",
              "      <td>0.602163</td>\n",
              "      <td>0.887112</td>\n",
              "      <td>0.545455</td>\n",
              "      <td>00:03</td>\n",
              "    </tr>\n",
              "    <tr>\n",
              "      <td>75</td>\n",
              "      <td>0.595685</td>\n",
              "      <td>0.884419</td>\n",
              "      <td>0.545455</td>\n",
              "      <td>00:03</td>\n",
              "    </tr>\n",
              "    <tr>\n",
              "      <td>76</td>\n",
              "      <td>0.588649</td>\n",
              "      <td>0.887681</td>\n",
              "      <td>0.545455</td>\n",
              "      <td>00:03</td>\n",
              "    </tr>\n",
              "    <tr>\n",
              "      <td>77</td>\n",
              "      <td>0.582403</td>\n",
              "      <td>0.890359</td>\n",
              "      <td>0.590909</td>\n",
              "      <td>00:03</td>\n",
              "    </tr>\n",
              "    <tr>\n",
              "      <td>78</td>\n",
              "      <td>0.575288</td>\n",
              "      <td>0.886733</td>\n",
              "      <td>0.590909</td>\n",
              "      <td>00:03</td>\n",
              "    </tr>\n",
              "    <tr>\n",
              "      <td>79</td>\n",
              "      <td>0.571830</td>\n",
              "      <td>0.890159</td>\n",
              "      <td>0.590909</td>\n",
              "      <td>00:03</td>\n",
              "    </tr>\n",
              "    <tr>\n",
              "      <td>80</td>\n",
              "      <td>0.570311</td>\n",
              "      <td>0.897231</td>\n",
              "      <td>0.590909</td>\n",
              "      <td>00:03</td>\n",
              "    </tr>\n",
              "    <tr>\n",
              "      <td>81</td>\n",
              "      <td>0.567768</td>\n",
              "      <td>0.901554</td>\n",
              "      <td>0.590909</td>\n",
              "      <td>00:03</td>\n",
              "    </tr>\n",
              "    <tr>\n",
              "      <td>82</td>\n",
              "      <td>0.562513</td>\n",
              "      <td>0.900161</td>\n",
              "      <td>0.590909</td>\n",
              "      <td>00:03</td>\n",
              "    </tr>\n",
              "    <tr>\n",
              "      <td>83</td>\n",
              "      <td>0.559032</td>\n",
              "      <td>0.897499</td>\n",
              "      <td>0.590909</td>\n",
              "      <td>00:03</td>\n",
              "    </tr>\n",
              "    <tr>\n",
              "      <td>84</td>\n",
              "      <td>0.555233</td>\n",
              "      <td>0.885354</td>\n",
              "      <td>0.590909</td>\n",
              "      <td>00:03</td>\n",
              "    </tr>\n",
              "    <tr>\n",
              "      <td>85</td>\n",
              "      <td>0.553257</td>\n",
              "      <td>0.883054</td>\n",
              "      <td>0.590909</td>\n",
              "      <td>00:03</td>\n",
              "    </tr>\n",
              "    <tr>\n",
              "      <td>86</td>\n",
              "      <td>0.547606</td>\n",
              "      <td>0.887892</td>\n",
              "      <td>0.590909</td>\n",
              "      <td>00:03</td>\n",
              "    </tr>\n",
              "    <tr>\n",
              "      <td>87</td>\n",
              "      <td>0.543724</td>\n",
              "      <td>0.890623</td>\n",
              "      <td>0.590909</td>\n",
              "      <td>00:03</td>\n",
              "    </tr>\n",
              "    <tr>\n",
              "      <td>88</td>\n",
              "      <td>0.539313</td>\n",
              "      <td>0.895580</td>\n",
              "      <td>0.590909</td>\n",
              "      <td>00:03</td>\n",
              "    </tr>\n",
              "    <tr>\n",
              "      <td>89</td>\n",
              "      <td>0.535868</td>\n",
              "      <td>0.901723</td>\n",
              "      <td>0.545455</td>\n",
              "      <td>00:03</td>\n",
              "    </tr>\n",
              "    <tr>\n",
              "      <td>90</td>\n",
              "      <td>0.532039</td>\n",
              "      <td>0.908018</td>\n",
              "      <td>0.545455</td>\n",
              "      <td>00:03</td>\n",
              "    </tr>\n",
              "    <tr>\n",
              "      <td>91</td>\n",
              "      <td>0.526617</td>\n",
              "      <td>0.918650</td>\n",
              "      <td>0.545455</td>\n",
              "      <td>00:03</td>\n",
              "    </tr>\n",
              "    <tr>\n",
              "      <td>92</td>\n",
              "      <td>0.523549</td>\n",
              "      <td>0.926916</td>\n",
              "      <td>0.545455</td>\n",
              "      <td>00:03</td>\n",
              "    </tr>\n",
              "    <tr>\n",
              "      <td>93</td>\n",
              "      <td>0.521301</td>\n",
              "      <td>0.926745</td>\n",
              "      <td>0.545455</td>\n",
              "      <td>00:03</td>\n",
              "    </tr>\n",
              "    <tr>\n",
              "      <td>94</td>\n",
              "      <td>0.518346</td>\n",
              "      <td>0.928300</td>\n",
              "      <td>0.545455</td>\n",
              "      <td>00:03</td>\n",
              "    </tr>\n",
              "    <tr>\n",
              "      <td>95</td>\n",
              "      <td>0.517138</td>\n",
              "      <td>0.929262</td>\n",
              "      <td>0.545455</td>\n",
              "      <td>00:03</td>\n",
              "    </tr>\n",
              "    <tr>\n",
              "      <td>96</td>\n",
              "      <td>0.514925</td>\n",
              "      <td>0.922492</td>\n",
              "      <td>0.545455</td>\n",
              "      <td>00:03</td>\n",
              "    </tr>\n",
              "    <tr>\n",
              "      <td>97</td>\n",
              "      <td>0.512466</td>\n",
              "      <td>0.918674</td>\n",
              "      <td>0.545455</td>\n",
              "      <td>00:03</td>\n",
              "    </tr>\n",
              "    <tr>\n",
              "      <td>98</td>\n",
              "      <td>0.507890</td>\n",
              "      <td>0.918475</td>\n",
              "      <td>0.545455</td>\n",
              "      <td>00:03</td>\n",
              "    </tr>\n",
              "    <tr>\n",
              "      <td>99</td>\n",
              "      <td>0.505435</td>\n",
              "      <td>0.919190</td>\n",
              "      <td>0.545455</td>\n",
              "      <td>00:03</td>\n",
              "    </tr>\n",
              "  </tbody>\n",
              "</table>"
            ],
            "text/plain": [
              "<IPython.core.display.HTML object>"
            ]
          },
          "metadata": {}
        },
        {
          "output_type": "stream",
          "name": "stdout",
          "text": [
            "Better model found at epoch 0 with valid_loss value: 1.0979282855987549.\n",
            "Better model found at epoch 1 with valid_loss value: 1.095064640045166.\n",
            "Better model found at epoch 2 with valid_loss value: 1.0920385122299194.\n",
            "Better model found at epoch 3 with valid_loss value: 1.0892983675003052.\n",
            "Better model found at epoch 4 with valid_loss value: 1.0868051052093506.\n",
            "Better model found at epoch 5 with valid_loss value: 1.0843478441238403.\n",
            "Better model found at epoch 6 with valid_loss value: 1.0828089714050293.\n",
            "Better model found at epoch 7 with valid_loss value: 1.0817484855651855.\n",
            "Better model found at epoch 8 with valid_loss value: 1.08139169216156.\n",
            "Better model found at epoch 17 with valid_loss value: 1.079950213432312.\n",
            "Better model found at epoch 18 with valid_loss value: 1.073979139328003.\n",
            "Better model found at epoch 19 with valid_loss value: 1.0646506547927856.\n",
            "Better model found at epoch 20 with valid_loss value: 1.0536305904388428.\n",
            "Better model found at epoch 21 with valid_loss value: 1.037527084350586.\n",
            "Better model found at epoch 22 with valid_loss value: 1.023849368095398.\n",
            "Better model found at epoch 23 with valid_loss value: 1.0131275653839111.\n",
            "Better model found at epoch 24 with valid_loss value: 1.0071358680725098.\n",
            "Better model found at epoch 25 with valid_loss value: 1.0024288892745972.\n",
            "Better model found at epoch 26 with valid_loss value: 1.002335548400879.\n",
            "Better model found at epoch 32 with valid_loss value: 0.9992782473564148.\n",
            "Better model found at epoch 33 with valid_loss value: 0.982178270816803.\n",
            "Better model found at epoch 34 with valid_loss value: 0.9432719945907593.\n",
            "Better model found at epoch 35 with valid_loss value: 0.9050203561782837.\n",
            "Better model found at epoch 36 with valid_loss value: 0.8813316226005554.\n",
            "Better model found at epoch 37 with valid_loss value: 0.8563652038574219.\n",
            "Better model found at epoch 38 with valid_loss value: 0.844821035861969.\n",
            "Better model found at epoch 40 with valid_loss value: 0.8405393958091736.\n",
            "Better model found at epoch 55 with valid_loss value: 0.8314098119735718.\n",
            "Better model found at epoch 56 with valid_loss value: 0.8176311254501343.\n",
            "Better model found at epoch 57 with valid_loss value: 0.804085373878479.\n",
            "Better model found at epoch 58 with valid_loss value: 0.8019139766693115.\n"
          ]
        }
      ]
    },
    {
      "cell_type": "code",
      "metadata": {
        "colab": {
          "base_uri": "https://localhost:8080/",
          "height": 54
        },
        "id": "7D9NJP9-dLGY",
        "outputId": "f2f948aa-ed1a-46d9-cd35-ab3d3421dcea"
      },
      "source": [
        "#preds, targs = learn.tta()\n",
        "#accuracy(preds, targs).item()"
      ],
      "execution_count": null,
      "outputs": [
        {
          "output_type": "display_data",
          "data": {
            "text/html": [
              "\n",
              "    <div>\n",
              "        <style>\n",
              "            /* Turns off some styling */\n",
              "            progress {\n",
              "                /* gets rid of default border in Firefox and Opera. */\n",
              "                border: none;\n",
              "                /* Needs to be in here for Safari polyfill so background images work as expected. */\n",
              "                background-size: auto;\n",
              "            }\n",
              "            .progress-bar-interrupted, .progress-bar-interrupted::-webkit-progress-bar {\n",
              "                background: #F44336;\n",
              "            }\n",
              "        </style>\n",
              "      <progress value='0' class='' max='100' style='width:300px; height:20px; vertical-align: middle;'></progress>\n",
              "      \n",
              "    </div>\n",
              "    \n"
            ],
            "text/plain": [
              "<IPython.core.display.HTML object>"
            ]
          },
          "metadata": {}
        },
        {
          "output_type": "display_data",
          "data": {
            "text/html": [
              ""
            ],
            "text/plain": [
              "<IPython.core.display.HTML object>"
            ]
          },
          "metadata": {}
        },
        {
          "output_type": "execute_result",
          "data": {
            "text/plain": [
              "0.5909090638160706"
            ]
          },
          "metadata": {},
          "execution_count": 55
        }
      ]
    },
    {
      "cell_type": "code",
      "metadata": {
        "colab": {
          "base_uri": "https://localhost:8080/"
        },
        "id": "pfyi6yt17q31",
        "outputId": "f7656a25-3fdc-4b89-f69c-c785bfcf4ef2"
      },
      "source": [
        "#print(len(targs))\n",
        "#print(targs)"
      ],
      "execution_count": null,
      "outputs": [
        {
          "output_type": "stream",
          "name": "stdout",
          "text": [
            "22\n",
            "TensorCategory([0, 0, 1, 0, 2, 2, 1, 0, 0, 2, 0, 0, 2, 0, 0, 2, 0, 2, 0, 2, 2, 1])\n"
          ]
        }
      ]
    },
    {
      "cell_type": "markdown",
      "metadata": {
        "id": "UJNlq-q0MHth"
      },
      "source": [
        "Checking predictions for the validation set"
      ]
    },
    {
      "cell_type": "code",
      "metadata": {
        "colab": {
          "base_uri": "https://localhost:8080/",
          "height": 311
        },
        "id": "7WSa2tio0NPL",
        "outputId": "7aae9d06-2a01-4d62-b4a0-c3112d4a96c9"
      },
      "source": [
        "interp = ClassificationInterpretation.from_learner(learn)\n",
        "interp.plot_confusion_matrix()"
      ],
      "execution_count": 17,
      "outputs": [
        {
          "output_type": "display_data",
          "data": {
            "text/html": [
              ""
            ],
            "text/plain": [
              "<IPython.core.display.HTML object>"
            ]
          },
          "metadata": {}
        },
        {
          "output_type": "display_data",
          "data": {
            "image/png": "[encoded data removed]",
            "text/plain": [
              "<Figure size 432x288 with 1 Axes>"
            ]
          },
          "metadata": {
            "needs_background": "light"
          }
        }
      ]
    },
    {
      "cell_type": "markdown",
      "metadata": {
        "id": "HnoDfGOHOXKd"
      },
      "source": [
        "Option to do Inference prior to saving the Model"
      ]
    },
    {
      "cell_type": "code",
      "metadata": {
        "colab": {
          "base_uri": "https://localhost:8080/"
        },
        "id": "ZXGfzyVUEvpU",
        "outputId": "dbe096f0-9dc0-47ad-b7a0-39bf4cc9a62f"
      },
      "source": [
        "!ls test"
      ],
      "execution_count": null,
      "outputs": [
        {
          "output_type": "stream",
          "name": "stdout",
          "text": [
            "acne  herpes_simplex  lichen_planus  README.md\n"
          ]
        }
      ]
    },
    {
      "cell_type": "code",
      "metadata": {
        "id": "8AKvayutHsRA"
      },
      "source": [
        "test_path = Path('test')"
      ],
      "execution_count": 18,
      "outputs": []
    },
    {
      "cell_type": "code",
      "metadata": {
        "colab": {
          "base_uri": "https://localhost:8080/"
        },
        "id": "QjNBOU2cJlyG",
        "outputId": "dbf80099-2d93-4ba2-a7bc-8c404a7af1b0"
      },
      "source": [
        "test_path.ls()"
      ],
      "execution_count": null,
      "outputs": [
        {
          "output_type": "execute_result",
          "data": {
            "text/plain": [
              "(#4) [Path('test/lichen_planus'),Path('test/herpes_simplex'),Path('test/acne'),Path('test/README.md')]"
            ]
          },
          "metadata": {},
          "execution_count": 76
        }
      ]
    },
    {
      "cell_type": "code",
      "metadata": {
        "id": "pFfczw66Hzch"
      },
      "source": [
        "test_images = get_image_files(test_path)\n",
        "#image_array = [PIL.Image.open(file) for file in test_images]\n",
        "#image_array = [image.convert('RGB') for image in image_array]"
      ],
      "execution_count": 19,
      "outputs": []
    },
    {
      "cell_type": "code",
      "metadata": {
        "colab": {
          "base_uri": "https://localhost:8080/"
        },
        "id": "3r4qhwHZz6el",
        "outputId": "9b649d95-69e7-4f09-cc83-9ca7b2033c81"
      },
      "source": [
        "test_images"
      ],
      "execution_count": null,
      "outputs": [
        {
          "output_type": "execute_result",
          "data": {
            "text/plain": [
              "(#9) [Path('test/lichen_planus/test3_lich.jpeg'),Path('test/lichen_planus/test1_lich.jpeg'),Path('test/lichen_planus/test2_lich.jpeg'),Path('test/herpes_simplex/test2_herp.jpeg'),Path('test/herpes_simplex/test3_herp.jpeg'),Path('test/herpes_simplex/test1_herp.jpeg'),Path('test/acne/test2_acne.jpeg'),Path('test/acne/test1_acne.jpeg'),Path('test/acne/test3_acne.jpeg')]"
            ]
          },
          "metadata": {},
          "execution_count": 78
        }
      ]
    },
    {
      "cell_type": "code",
      "metadata": {
        "id": "QArjYuK2PyUs"
      },
      "source": [
        "ground_list = []\n",
        "for i in range(len(test_images)):\n",
        "  ground = test_images[i]\n",
        "  ground_list.append(str(ground))"
      ],
      "execution_count": 20,
      "outputs": []
    },
    {
      "cell_type": "code",
      "metadata": {
        "colab": {
          "base_uri": "https://localhost:8080/",
          "height": 17
        },
        "id": "tpb6fzkbPyRw",
        "outputId": "df4df46e-17ab-493e-f417-18b6b8350148"
      },
      "source": [
        "predicted_list = []\n",
        "for i in range(len(test_images)):\n",
        "  predicted = learn.predict(test_images[i])[0]\n",
        "  predicted_list.append(str(predicted))"
      ],
      "execution_count": 21,
      "outputs": [
        {
          "output_type": "display_data",
          "data": {
            "text/html": [
              ""
            ],
            "text/plain": [
              "<IPython.core.display.HTML object>"
            ]
          },
          "metadata": {}
        },
        {
          "output_type": "display_data",
          "data": {
            "text/html": [
              ""
            ],
            "text/plain": [
              "<IPython.core.display.HTML object>"
            ]
          },
          "metadata": {}
        },
        {
          "output_type": "display_data",
          "data": {
            "text/html": [
              ""
            ],
            "text/plain": [
              "<IPython.core.display.HTML object>"
            ]
          },
          "metadata": {}
        },
        {
          "output_type": "display_data",
          "data": {
            "text/html": [
              ""
            ],
            "text/plain": [
              "<IPython.core.display.HTML object>"
            ]
          },
          "metadata": {}
        },
        {
          "output_type": "display_data",
          "data": {
            "text/html": [
              ""
            ],
            "text/plain": [
              "<IPython.core.display.HTML object>"
            ]
          },
          "metadata": {}
        },
        {
          "output_type": "display_data",
          "data": {
            "text/html": [
              ""
            ],
            "text/plain": [
              "<IPython.core.display.HTML object>"
            ]
          },
          "metadata": {}
        },
        {
          "output_type": "display_data",
          "data": {
            "text/html": [
              ""
            ],
            "text/plain": [
              "<IPython.core.display.HTML object>"
            ]
          },
          "metadata": {}
        },
        {
          "output_type": "display_data",
          "data": {
            "text/html": [
              ""
            ],
            "text/plain": [
              "<IPython.core.display.HTML object>"
            ]
          },
          "metadata": {}
        },
        {
          "output_type": "display_data",
          "data": {
            "text/html": [
              ""
            ],
            "text/plain": [
              "<IPython.core.display.HTML object>"
            ]
          },
          "metadata": {}
        }
      ]
    },
    {
      "cell_type": "code",
      "metadata": {
        "id": "FLr3wlgQ5VDp"
      },
      "source": [
        "for i in range(len(predicted_list)):\n",
        "  predicted_list[i] = predicted_list[i][:4]"
      ],
      "execution_count": 22,
      "outputs": []
    },
    {
      "cell_type": "code",
      "metadata": {
        "id": "wkZxzNp41KNA"
      },
      "source": [
        "for i in range(len(ground_list)):\n",
        "  ground_list[i] = ground_list[i][-9:-5]"
      ],
      "execution_count": 23,
      "outputs": []
    },
    {
      "cell_type": "code",
      "metadata": {
        "colab": {
          "base_uri": "https://localhost:8080/"
        },
        "id": "zG98urrSTS1i",
        "outputId": "168cfb41-e73d-4d2d-f649-5af92c70cefd"
      },
      "source": [
        "list(zip(ground_list, predicted_list))"
      ],
      "execution_count": 24,
      "outputs": [
        {
          "output_type": "execute_result",
          "data": {
            "text/plain": [
              "[('lich', 'acne'),\n",
              " ('lich', 'lich'),\n",
              " ('lich', 'acne'),\n",
              " ('herp', 'herp'),\n",
              " ('herp', 'lich'),\n",
              " ('herp', 'acne'),\n",
              " ('acne', 'herp'),\n",
              " ('acne', 'acne'),\n",
              " ('acne', 'lich')]"
            ]
          },
          "metadata": {},
          "execution_count": 24
        }
      ]
    },
    {
      "cell_type": "code",
      "metadata": {
        "id": "aNEFzvV8Nfku"
      },
      "source": [
        "correct = 0\n",
        "for i in range(len(ground_list)):\n",
        "  if ground_list[i] == predicted_list[i]:\n",
        "    correct +=1"
      ],
      "execution_count": 25,
      "outputs": []
    },
    {
      "cell_type": "code",
      "metadata": {
        "id": "SXMatanFNfhy",
        "colab": {
          "base_uri": "https://localhost:8080/"
        },
        "outputId": "8f66c752-32fb-48d5-acd0-f3123bc4adae"
      },
      "source": [
        "percent_correct = correct / len(ground_list)\n",
        "print('Percent of correct predictions on test set:', round(percent_correct *100), '%')"
      ],
      "execution_count": 26,
      "outputs": [
        {
          "output_type": "stream",
          "name": "stdout",
          "text": [
            "Percent of correct predictions on test set: 33 %\n"
          ]
        }
      ]
    },
    {
      "cell_type": "markdown",
      "metadata": {
        "id": "mRAqXvOCOk9d"
      },
      "source": [
        "Save the Model"
      ]
    },
    {
      "cell_type": "code",
      "metadata": {
        "id": "OH7iwawmfFXu"
      },
      "source": [
        "# create 'export.pkl' file in ace-it folder\n",
        "learn.export()"
      ],
      "execution_count": 27,
      "outputs": []
    },
    {
      "cell_type": "code",
      "metadata": {
        "colab": {
          "base_uri": "https://localhost:8080/"
        },
        "id": "qF1mvvn3CuQ8",
        "outputId": "b549c63b-8c94-472f-ab69-c98ffa5ca612"
      },
      "source": [
        "path = Path()\n",
        "path.ls(file_exts= '.pkl')"
      ],
      "execution_count": 28,
      "outputs": [
        {
          "output_type": "execute_result",
          "data": {
            "text/plain": [
              "(#1) [Path('export.pkl')]"
            ]
          },
          "metadata": {},
          "execution_count": 28
        }
      ]
    },
    {
      "cell_type": "markdown",
      "metadata": {
        "id": "3jJHxaR3OxWn"
      },
      "source": [
        "(Loading the Model shown in Inference Notebook)"
      ]
    }
  ]
}