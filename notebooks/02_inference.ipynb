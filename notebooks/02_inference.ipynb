{
  "nbformat": 4,
  "nbformat_minor": 0,
  "metadata": {
    "colab": {
      "name": "02_inference",
      "provenance": [],
      "collapsed_sections": [],
      "authorship_tag": "ABX9TyNrIcYYYpHlGLQIX/yxeni5",
      "include_colab_link": true
    },
    "kernelspec": {
      "name": "python3",
      "display_name": "Python 3"
    },
    "language_info": {
      "name": "python"
    }
  },
  "cells": [
    {
      "cell_type": "markdown",
      "metadata": {
        "id": "view-in-github",
        "colab_type": "text"
      },
      "source": [
        "<a href=\"https://colab.research.google.com/github/yrodriguezmd/ace-it/blob/nov25/notebooks/02_inference.ipynb\" target=\"_parent\"><img src=\"https://colab.research.google.com/assets/colab-badge.svg\" alt=\"Open In Colab\"/></a>"
      ]
    },
    {
      "cell_type": "markdown",
      "metadata": {
        "id": "oD47IqGpFqu1"
      },
      "source": [
        "###Inference\n",
        "\n",
        "Use the saved model structure and weights 'export.pkl' for generating inference"
      ]
    },
    {
      "cell_type": "markdown",
      "metadata": {
        "id": "rTFH-typF3xp"
      },
      "source": [
        "Installations and Imports"
      ]
    },
    {
      "cell_type": "code",
      "metadata": {
        "id": "Z_cDFteZDgyY"
      },
      "source": [
        "!pip install -q --upgrade fastai"
      ],
      "execution_count": null,
      "outputs": []
    },
    {
      "cell_type": "code",
      "metadata": {
        "id": "p0oc4Dw9Du1_"
      },
      "source": [
        "import fastai\n",
        "from fastai.vision.all import *"
      ],
      "execution_count": 2,
      "outputs": []
    },
    {
      "cell_type": "code",
      "metadata": {
        "id": "V8FvFmi3EXy4"
      },
      "source": [
        "!pip install -qqq wandb\n",
        "import wandb"
      ],
      "execution_count": null,
      "outputs": []
    },
    {
      "cell_type": "code",
      "metadata": {
        "id": "aLlqrtN9DzC9"
      },
      "source": [
        "!git clone https://github.com/yrodriguezmd/ace-it.git"
      ],
      "execution_count": null,
      "outputs": []
    },
    {
      "cell_type": "markdown",
      "metadata": {
        "id": "sRvvtNU1GPeL"
      },
      "source": [
        "Previously trained model (structure + weights)"
      ]
    },
    {
      "cell_type": "code",
      "metadata": {
        "id": "t-kV3NOFD81T"
      },
      "source": [
        "path = Path()"
      ],
      "execution_count": 9,
      "outputs": []
    },
    {
      "cell_type": "code",
      "metadata": {
        "id": "5j_pqOqJDpID"
      },
      "source": [
        "learn_ = load_learner(path/'ace-it/export.pkl')"
      ],
      "execution_count": 10,
      "outputs": []
    },
    {
      "cell_type": "markdown",
      "metadata": {
        "id": "OmvOtmKfGTTn"
      },
      "source": [
        "Test set for inference"
      ]
    },
    {
      "cell_type": "code",
      "metadata": {
        "id": "EgZ67KVvDyPb"
      },
      "source": [
        "test_path = Path('/content/ace-it/test')"
      ],
      "execution_count": 11,
      "outputs": []
    },
    {
      "cell_type": "code",
      "metadata": {
        "id": "Cw5vz8XxEkp6"
      },
      "source": [
        "test_images = get_image_files(test_path)"
      ],
      "execution_count": 12,
      "outputs": []
    },
    {
      "cell_type": "code",
      "metadata": {
        "id": "JKeerdMwEncg"
      },
      "source": [
        "ground_list = []\n",
        "for i in range(len(test_images)):\n",
        "  ground = test_images[i]\n",
        "  ground_list.append(str(ground))"
      ],
      "execution_count": 13,
      "outputs": []
    },
    {
      "cell_type": "code",
      "metadata": {
        "colab": {
          "base_uri": "https://localhost:8080/",
          "height": 17
        },
        "id": "0Zwsl5tiErMC",
        "outputId": "4d12b0e9-b7e2-4db7-ee99-0468db99f6da"
      },
      "source": [
        "# generate predictions\n",
        "predicted_list = []\n",
        "for i in range(len(test_images)):\n",
        "  predicted = learn_.predict(test_images[i])[0] #\n",
        "  predicted_list.append(str(predicted))"
      ],
      "execution_count": 14,
      "outputs": [
        {
          "output_type": "display_data",
          "data": {
            "text/html": [
              ""
            ],
            "text/plain": [
              "<IPython.core.display.HTML object>"
            ]
          },
          "metadata": {}
        },
        {
          "output_type": "display_data",
          "data": {
            "text/html": [
              ""
            ],
            "text/plain": [
              "<IPython.core.display.HTML object>"
            ]
          },
          "metadata": {}
        },
        {
          "output_type": "display_data",
          "data": {
            "text/html": [
              ""
            ],
            "text/plain": [
              "<IPython.core.display.HTML object>"
            ]
          },
          "metadata": {}
        },
        {
          "output_type": "display_data",
          "data": {
            "text/html": [
              ""
            ],
            "text/plain": [
              "<IPython.core.display.HTML object>"
            ]
          },
          "metadata": {}
        },
        {
          "output_type": "display_data",
          "data": {
            "text/html": [
              ""
            ],
            "text/plain": [
              "<IPython.core.display.HTML object>"
            ]
          },
          "metadata": {}
        },
        {
          "output_type": "display_data",
          "data": {
            "text/html": [
              ""
            ],
            "text/plain": [
              "<IPython.core.display.HTML object>"
            ]
          },
          "metadata": {}
        },
        {
          "output_type": "display_data",
          "data": {
            "text/html": [
              ""
            ],
            "text/plain": [
              "<IPython.core.display.HTML object>"
            ]
          },
          "metadata": {}
        },
        {
          "output_type": "display_data",
          "data": {
            "text/html": [
              ""
            ],
            "text/plain": [
              "<IPython.core.display.HTML object>"
            ]
          },
          "metadata": {}
        },
        {
          "output_type": "display_data",
          "data": {
            "text/html": [
              ""
            ],
            "text/plain": [
              "<IPython.core.display.HTML object>"
            ]
          },
          "metadata": {}
        }
      ]
    },
    {
      "cell_type": "code",
      "metadata": {
        "id": "-fltwFLZEtN6"
      },
      "source": [
        "# trim filename for comparison\n",
        "for i in range(len(predicted_list)):\n",
        "  predicted_list[i] = predicted_list[i][:4]"
      ],
      "execution_count": 15,
      "outputs": []
    },
    {
      "cell_type": "code",
      "metadata": {
        "id": "qYgTxq37EvBK"
      },
      "source": [
        "# trim filename for comparison\n",
        "for i in range(len(ground_list)):\n",
        "  ground_list[i] = ground_list[i][-9:-5]"
      ],
      "execution_count": 16,
      "outputs": []
    },
    {
      "cell_type": "code",
      "metadata": {
        "colab": {
          "base_uri": "https://localhost:8080/"
        },
        "id": "rSdiLEMtExN4",
        "outputId": "759bfecd-3236-4061-d67e-85afd49948c9"
      },
      "source": [
        "list(zip(ground_list, predicted_list))"
      ],
      "execution_count": 17,
      "outputs": [
        {
          "output_type": "execute_result",
          "data": {
            "text/plain": [
              "[('acne', 'acne'),\n",
              " ('acne', 'herp'),\n",
              " ('acne', 'lich'),\n",
              " ('herp', 'acne'),\n",
              " ('herp', 'herp'),\n",
              " ('herp', 'lich'),\n",
              " ('lich', 'lich'),\n",
              " ('lich', 'acne'),\n",
              " ('lich', 'acne')]"
            ]
          },
          "metadata": {},
          "execution_count": 17
        }
      ]
    },
    {
      "cell_type": "markdown",
      "metadata": {
        "id": "lAYIWxFYGwLa"
      },
      "source": [
        "Proportion of correct predictions"
      ]
    },
    {
      "cell_type": "code",
      "metadata": {
        "id": "Os5h-asuFITE"
      },
      "source": [
        "correct = 0\n",
        "for i in range(len(ground_list)):\n",
        "  if ground_list[i] == predicted_list[i]:\n",
        "    correct +=1"
      ],
      "execution_count": 18,
      "outputs": []
    },
    {
      "cell_type": "code",
      "metadata": {
        "colab": {
          "base_uri": "https://localhost:8080/"
        },
        "id": "_pbstdb9FKy_",
        "outputId": "3c5c88d6-6532-46a4-9234-368b93960c7c"
      },
      "source": [
        "percent_correct = correct / len(ground_list)\n",
        "print('Percent of correct predictions on test set:', round(percent_correct *100), '%')"
      ],
      "execution_count": 19,
      "outputs": [
        {
          "output_type": "stream",
          "name": "stdout",
          "text": [
            "Percent of correct predictions on test set: 33 %\n"
          ]
        }
      ]
    },
    {
      "cell_type": "markdown",
      "metadata": {
        "id": "xuNAX5TESAeX"
      },
      "source": [
        "Needs Work!"
      ]
    }
  ]
}